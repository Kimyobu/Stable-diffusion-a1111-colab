{
  "cells": [
    {
      "cell_type": "markdown",
      "metadata": {
        "colab_type": "text",
        "id": "view-in-github"
      },
      "source": [
        "<a href=\"https://colab.research.google.com/github/Kimyobu/Stable-diffusion-a1111-colab/blob/main/colab.ipynb\" target=\"_parent\"><img src=\"https://colab.research.google.com/assets/colab-badge.svg\" alt=\"Open In Colab\"/></a>"
      ]
    },
    {
      "cell_type": "markdown",
      "metadata": {
        "id": "qyMiy4tdUs3f"
      },
      "source": [
        "#**Install Stage**<br>\n",
        "##**!!Important!!** Setup webUI first before run other cell\n",
        "##**คำเตือน** ให้รัน Setup webUI ก่อนค่อยรัน cell อื่น\n",
        "\n"
      ]
    },
    {
      "cell_type": "code",
      "execution_count": null,
      "metadata": {
        "cellView": "form",
        "id": "KNoN7qXVTx0d"
      },
      "outputs": [],
      "source": [
        "#@markdown #**Setup webUI**<br>\n",
        "#@markdown > Clone Stable diffusion webui git repo<br>* caution if instant_replace = True will destroy and replace webUI folder<br>* คำเตือนเปิด instant_replace จะลบ folder webUI แล้วลงใหม่ข้อมูลหายหมด\n",
        "instant_replace = False #@param {type: \"boolean\"}\n",
        "#@markdown\n",
        "install_extension = True #@param {type: \"boolean\"}\n",
        "#@markdown > Leave it default to install common extensions<br>ไม่ต้องเปลี่ยนถ้าจะลง extension ทั่วไป\n",
        "extension_list_file = '/content/extensions.txt' #@param {type: \"string\"}\n",
        "#@markdown\n",
        "import_model_from_drive = True #@param {type: \"boolean\"}\n",
        "import time\n",
        "import os\n",
        "import json\n",
        "from google.colab import drive, output\n",
        "def join(d: str, l: list[str], *a:str):\n",
        "    for x in a:\n",
        "        l.append(x)\n",
        "    return d.join(l)\n",
        "\n",
        "def rd(l):\n",
        "    return [*set(l)]\n",
        "\n",
        "def wait(t):\n",
        "    time.sleep(t)\n",
        "\n",
        "def mount():\n",
        "    c = True\n",
        "    p = '/content/drive'\n",
        "    if os.path.exists(p):\n",
        "        c = False\n",
        "    if c :\n",
        "        drive.mount(p, force_remount=True)\n",
        "\n",
        "def git_clone(repo, path):\n",
        "    if path:\n",
        "        %cd {path}\n",
        "    for x in repo:\n",
        "        !git clone {x}\n",
        "    %cd /content\n",
        "\n",
        "def clear():\n",
        "    output.clear()\n",
        "\n",
        "def rm(path, arg = ''):\n",
        "    if arg == '-r':\n",
        "        os.removedirs(path)\n",
        "    else:\n",
        "        os.remove(path)\n",
        "\n",
        "if import_model_from_drive:\n",
        "   print('Please allow access to drive we will only save and read our service content')\n",
        "   mount()\n",
        "\n",
        "!apt-get -y install -qq aria2\n",
        "!pip install --upgrade fastapi\n",
        "!apt install libcairo2-dev pkg-config python3-dev\n",
        "!pip install svglib\n",
        "!pip install pytorch-lightning==1.6.5\n",
        "!pip install torchmetrics==0.11.0\n",
        "clear()\n",
        "j = 'https://github.com/AUTOMATIC1111/stable-diffusion' + '-webui'\n",
        "if instant_replace and os.path.exists('/content/project'):\n",
        "  rm('/content/project', '-r')\n",
        "\n",
        "!git clone {j} /content/project\n",
        "if install_extension:\n",
        "   !aria2c --console-log-level=error -c -x 16 -s 16 -k 1M https://github.com/Kimyobu/Stable-diffusion-a1111-colab/raw/main/SD/extensions.txt\n",
        "   \n",
        "   install = open(extension_list_file, 'r').read().split('\\n')\n",
        "   git_clone(install, '/content/project/extensions')\n",
        "   print('\\033[38;5;190mWait for install ControlNet Models\\033[39m')\n",
        "   p = '/content/project/extensions/sd-we' + ' bui-controlnet/models'\n",
        "   !aria2c --console-log-level=error -c -x 16 -s 16 -k 1M https://raw.githubusercontent.com/Kimyobu/Stable-diffusion-a1111-colab/main/SD/control_net_model.json -d /content\n",
        "   o = json.load(open('/content/control_net_model.txt', 'r'))\n",
        "   for x in o:\n",
        "        !aria2c --console-log-level=error -c -x 16 -s 16 -k 1M {x} -o {o[x]} -d {p}\n",
        "\n",
        "if import_model_from_drive:\n",
        "   save_path =  '/content/drive/MyDrive/kimyobu-colab/models/'\n",
        "   model_path = '/content/project/models/'\n",
        "   !mkdir -p {save_path}\n",
        "   for x in os.listdir(save_path):\n",
        "       fol = model_path + x.split('.')[0]\n",
        "       !mkdir -p {fol}\n",
        "       !aria2c --console-log-level=error -c -x 16 -s 16 -k 1M -i {save_path + x} -d {fol}\n",
        "\n",
        "os.environ['setup'] = 'True'\n",
        "clear()\n",
        "print('\\033[38;5;82m' + 'Setup WebUI Complete')"
      ]
    },
    {
      "cell_type": "code",
      "execution_count": null,
      "metadata": {
        "cellView": "form",
        "id": "dWX83UxWYlzK"
      },
      "outputs": [],
      "source": [
        "#@markdown #Check list of default common extension<br>ดู extension ทั่วไปที่จัดไว้ให้\n",
        "!!apt-get -y install -qq aria2\n",
        "!!aria2c --console-log-level=error -c -x 16 -s 16 -k 1M https://github.com/Kimyobu/Stable-diffusion-webui-colab/raw/main/SD/extensions.txt -d /content\n",
        "print('\\033[38;5;190mCurrent List:\\n' + open('/content/extensions.txt').read())"
      ]
    },
    {
      "cell_type": "markdown",
      "metadata": {
        "id": "xsXyASaT46qU"
      },
      "source": [
        "---"
      ]
    },
    {
      "cell_type": "markdown",
      "metadata": {
        "id": "vU8rIIH4efjM"
      },
      "source": [
        "#**Model downloader**<br>\n",
        "## Put your model link file and select model type<br>\n",
        "## ใส่ลิงค์ไฟล์โมเดลแล้วเลือกประเภทโมเดล<br>\n",
        "> YumYumFusionMix CheckPoint <br>\n",
        "https://civitai.com/models/99134/yumyumfusionmix<br>\n",
        "https://civitai.com/api/download/models/113576<br>\n",
        "YumYum2D<br>\n",
        "https://civitai.com/models/106870/yumyum2d<br>\n",
        "https://civitai.com/api/download/models/115417<br>\n",
        "* @Credit <a href=\"https://civitai.com/user/AIJPG\" title=\"Follower for support\">AIJPG</a><br>\n",
        "<a href=\"https://civitai.com/user/AIJPG\"><img src=\"https://image.civitai.com/xG1nkqKTMzGDvpLrqFT7WA/20147aba-d01c-44b2-b8e0-c2040e46d436/width=128/AIJPG.jpeg\" width=\"100\" height=\"100\" title=\"AIJPG\"></a>"
      ]
    },
    {
      "cell_type": "markdown",
      "metadata": {
        "id": "_2Bj9ze64-sU"
      },
      "source": []
    },
    {
      "cell_type": "code",
      "execution_count": null,
      "metadata": {
        "cellView": "form",
        "id": "UO4vOjJWLjTk"
      },
      "outputs": [],
      "source": [
        "#@title Runtime Install\n",
        "#@markdown * Install to Runtime storage<br>อันนี้มันจะลงที่ Runtime\n",
        "import os\n",
        "if not os.environ.get('setup'):\n",
        "    raise SystemExit('\\033[31mRun SetUP WebUI FIRST!!\\033[39m')\n",
        "save_path = '/content/project/models/'\n",
        "model_type = 'Stable-diffusion' #@param [\"adetailer\",\"deepdanbooru\",\"karlo\",\"sam\",\"VAE-approx\",\"Codeformer\",\"ESRGAN\",\"LDSR\",\"Stable-diffusion\",\"ControlNet\",\"GFPGAN\",\"Lora\",\"SwinIR\",\"deepbooru\",\"hypernetworks\",\"LyCORIS\",\"VAE\"]\n",
        "model_path = save_path + model_type\n",
        "model_url = 'https://civitai.com/api/download/models/113576' #@param {type:\"string\"}\n",
        "#@markdown > Uninstall not support you can manually delete model file in models folder at /content/project/models<br>ไม่รองรับการลบโมเดลสามารถลบเองได้ที่ folder /content/project/models/\n",
        "model_url = f\"\\\"{model_url}\\\"\"\n",
        "!mkdir -p \"{model_path}\"\n",
        "\n",
        "!aria2c --console-log-level=error -c -x 16 -s 16 -k 1M {model_url} -d {model_path}"
      ]
    },
    {
      "cell_type": "code",
      "execution_count": null,
      "metadata": {
        "cellView": "form",
        "id": "zfNzbgCIanQw"
      },
      "outputs": [],
      "source": [
        "#@title Google_Drive Install\n",
        "#@markdown * Install to Google_Drive storage<br>อันนี้มันจะลงที่ Google_Drive\n",
        "import os\n",
        "if not os.environ.get('setup'):\n",
        "    raise SystemExit('\\033[31mRun SetUP WebUI FIRST!!\\033[39m')\n",
        "mount()\n",
        "check_list = False #@param {type: \"boolean\"}\n",
        "save_path =  '/content/drive/MyDrive/kimyobu-colab/models/'\n",
        "if check_list:\n",
        "    for x in os.listdir(save_path):\n",
        "        print(f\"{x.split('.')[0]}: \\n{open(x, 'r').read()}\")\n",
        "else :\n",
        "    model_type = 'Stable-diffusion' #@param [\"adetailer\",\"deepdanbooru\",\"karlo\",\"sam\",\"VAE-approx\",\"Codeformer\",\"ESRGAN\",\"LDSR\",\"Stable-diffusion\",\"ControlNet\",\"GFPGAN\",\"Lora\",\"SwinIR\",\"deepbooru\",\"hypernetworks\",\"LyCORIS\",\"VAE\"]\n",
        "    model_url = 'https://civitai.com/api/download/models/113576' #@param {type:\"string\"}\n",
        "    #@markdown > Uninstall can manually edit at /content/drive/MyDrive/kimyobu-colab/models<br>สามารถลบโมเดลทที่เซฟไว้ในไดร์ฟที่ /content/drive/MyDrive/kimyobu-colab/models\n",
        "    uninstall_model = False #@param {type: \"boolean\"}\n",
        "    model_path = '/content/project/models/' + model_type\n",
        "    !mkdir -p {save_path}\n",
        "    path = save_path + model_type + '.txt'\n",
        "    !touch {path}\n",
        "    f = open(path, 'r')\n",
        "    r = ''\n",
        "    !rm -r {path}\n",
        "    if uninstall_model:\n",
        "        for x in rd(f.read().split('\\n')):\n",
        "            if x != model_url :\n",
        "                r += x + '\\n'\n",
        "        f.close()\n",
        "        open(path, 'a').write(r)\n",
        "        print('\\033[31mUninstall ' + model_url + ' \\033[39mfrom \\033[38;5;14m' + path)\n",
        "    else :\n",
        "        r = join('\\n', rd(f.read().split('\\n')), model_url)\n",
        "        f.close()\n",
        "        open(path, 'a').write(r)\n",
        "        print('\\n' + '\\033[38;5;82mStatus OK ' + '\\033[39mInstall model to \\033[38;5;14m' + save_path + model_type)\n",
        "        #Import state\n",
        "        import_to_runtime = True #@param {type: \"boolean\"}\n",
        "        if import_to_runtime and not uninstall_model:\n",
        "            print('\\n' + '\\033[38;5;190mWait for install to runtime')\n",
        "            !mkdir -p {model_path}\n",
        "            model_url = f\"\\\"{model_url}\\\"\"\n",
        "            !aria2c --console-log-level=error -c -x 16 -s 16 -k 1M {model_url} -d {model_path}\n",
        "    print('\\033[38;5;190mCurrent List:\\n' + open(path, 'r').read())"
      ]
    },
    {
      "cell_type": "markdown",
      "metadata": {
        "id": "rxvLvQA148YL"
      },
      "source": [
        "---"
      ]
    },
    {
      "cell_type": "markdown",
      "metadata": {
        "id": "QnjYrX9YKUv_"
      },
      "source": [
        "#**Launch WebUI**"
      ]
    },
    {
      "cell_type": "code",
      "execution_count": null,
      "metadata": {
        "cellView": "form",
        "id": "XFEebt3nU0rU"
      },
      "outputs": [],
      "source": [
        "#@markdown #**Launch WebUI**\n",
        "import os\n",
        "if not os.environ.get('setup'):\n",
        "    raise SystemExit('\\033[31mRun SetUP WebUI FIRST!!\\033[39m')\n",
        "%cd /content/project\n",
        "#@markdown > Set to true for saveing outputs to google drive<br>เปิดไว้ถ้าจะให้เจนรูปไปไว้ใน google drive\n",
        "save_to_drive = True #@param {type: \"boolean\"}\n",
        "!aria2c --console-log-level=error -c -x 16 -s 16 -k 1M https://raw.githubusercontent.com/Kimyobu/Stable-diffusion-a1111-colab/main/styles.csv\n",
        "if save_to_drive:\n",
        "   mount()\n",
        "   !aria2c --console-log-level=error -c -x 16 -s 16 -k 1M https://raw.githubusercontent.com/Kimyobu/Stable-diffusion-a1111-colab/main/SD/config.json\n",
        "\n",
        "clear()\n",
        "# Web UI tunnel\n",
        "!COMMANDLINE_ARGS=\"--share --no-half-vae --xformers --enable-insecure-extension- --theme dark\" REQS_FILE=\"requirements.txt\" python launch.py"
      ]
    },
    {
      "cell_type": "code",
      "execution_count": null,
      "metadata": {
        "cellView": "form",
        "id": "1C0IfNquKz_a"
      },
      "outputs": [],
      "source": [
        "#@markdown * Copy generated files to drive\n",
        "import os\n",
        "if not os.environ.get('setup'):\n",
        "    raise SystemExit('\\033[31mRun SetUP WebUI FIRST!!\\033[39m')\n",
        "mount()\n",
        "!cp -r /content/project/outputs/* /content/drive/MyDrive/kimyobu-colab/outputs"
      ]
    },
    {
      "cell_type": "markdown",
      "metadata": {
        "id": "JcJba3607XAO"
      },
      "source": [
        "---"
      ]
    },
    {
      "cell_type": "markdown",
      "metadata": {
        "id": "fyPSksax7Yvm"
      },
      "source": [
        "# @**Credit**\n",
        "##**<a href=\"https://github.com/Kimyobu\" title=\"Visit me on github\">Kimyobu</a> <a href=\"https://discord.gg/aith\" title=\"See us in community\">Discord Community**</a>\n",
        "<a href=\"https://github.com/Kimyobu\" title=\"Visit me on github\" style=\"margin-right: 100px;\"><img src=\"https://avatars.githubusercontent.com/u/91616822?v=4\" width=100px height=100px></a>  <a href=\"https://discord.gg/aith\" title=\"See us in community\"><img src=\"https://cdn.discordapp.com/icons/850018471096877096/a_79e2f1a6a99f763a924ef3e1d3ef7c6f.webp\" width=100px height=100px></a>"
      ]
    },
    {
      "cell_type": "markdown",
      "metadata": {
        "id": "02LtH1L1_ndP"
      },
      "source": [
        "---"
      ]
    }
  ],
  "metadata": {
    "accelerator": "GPU",
    "colab": {
      "gpuType": "T4",
      "include_colab_link": true,
      "private_outputs": true,
      "provenance": []
    },
    "kernelspec": {
      "display_name": "Python 3",
      "name": "python3"
    },
    "language_info": {
      "name": "python"
    }
  },
  "nbformat": 4,
  "nbformat_minor": 0
}
