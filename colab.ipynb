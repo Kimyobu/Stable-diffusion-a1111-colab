{
  "cells": [
    {
      "cell_type": "markdown",
      "metadata": {
        "colab_type": "text",
        "id": "view-in-github"
      },
      "source": [
        "<a href=\"https://colab.research.google.com/github/SalmonRK/A1111-Colab/blob/main/SalmonRK_SD_Webui_Colab.ipynb\" target=\"_parent\"><img src=\"https://colab.research.google.com/assets/colab-badge.svg\" alt=\"Open In Colab\"/></a>"
      ]
    },
    {
      "cell_type": "markdown",
      "metadata": {
        "id": "bsiZpfkU7S77"
      },
      "source": [
        "# 1. Setup the web ui"
      ]
    },
    {
      "cell_type": "code",
      "execution_count": null,
      "metadata": {
        "id": "sBbcB4vwj_jm"
      },
      "outputs": [],
      "source": [
        "!pip install --upgrade fastapi\n",
        "#A1111 + controlnet + lycoris + tagcomplete + AR helper + wd14 tagger + segment anything\n",
        "!curl -Lo alohomora.zip https://huggingface.co/datasets/salmonrk/alohomora/resolve/main/alohomora.zip\n",
        "!unzip /content/alohomora.zip\n",
        "!git clone https://github.com/fkunn1326/openpose-editor /content/alohomora/extensions/openpose-editor\n",
        "!git clone https://github.com/hnmr293/posex /content/alohomora/extensions/posex\n",
        "!git clone https://github.com/yfszzx/stable-diffusion-webui-images-browser /content/alohomora/extensions/stable-diffusion-webui-images-browser\n",
        "# SD Extension\n",
        "!git clone https://github.com/KutsuyaYuki/ABG_extension /content/alohomora/extensions/ABG_extension\n",
        "!git clone https://github.com/mcmonkeyprojects/sd-dynamic-thresholding /content/alohomora/extensions/sd-dynamic-thresholding\n",
        "!git clone https://github.com/richrobber2/canvas-zoom /content/alohomora/extensions/canvas-zoom\n",
        "!git clone https://github.com/adieyal/sd-dynamic-prompts /content/alohomora/extensions/sd-dynamic-prompts\n",
        "!git clone https://github.com/mattjaybe/sd-wildcards /content/alohomora/extensions/sd-dynamic-prompts/sd-wildcards\n",
        "!cp -R /content/alohomora/extensions/sd-dynamic-prompts/sd-wildcards/wildcards /content/alohomora/extensions/sd-dynamic-prompts\n",
        "!git clone https://github.com/Coyote-A/ultimate-upscale-for-automatic1111 /content/alohomora/extensions/ultimate-upscale-for-automatic1111\n",
        "!git clone https://github.com/Bing-su/adetailer /content/alohomora/extensions/adetailer\n",
        "# Model Segment Anything\n",
        "!mkdir -p '/content/alohomora/models/sam/'\n",
        "!curl -Lo /content/alohomora/models/sam/sam_vit_h_4b8939.pth https://dl.fbaipublicfiles.com/segment_anything/sam_vit_h_4b8939.pth\n",
        "\n",
        "# Model(s) setup\n",
        "# Below are model code for ChilloutMix, we always could change it to our desired model (how-to: https://youtu.be/vj-QrS_mWQI or https://youtu.be/MwyfwPFezvY)\n",
        "!curl -Lo /content/alohomora/models/Stable-diffusion/chilledReGenericV3_v10.safetensors https://huggingface.co/onionex/chilledReGenericV3_v10/resolve/main/chilledReGenericV3_v10.safetensors\n",
        "#!curl -Lo /content/alohomora/models/Stable-diffusion/AOM3.safetensors https://huggingface.co/ckpt/OrangeMixs/resolve/main/AOM3.safetensors\n",
        "#!curl -Lo /content/alohomora/models/Stable-diffusion/Counterfeit-V2.5.safetensors https://huggingface.co/gsdf/Counterfeit-V2.5/resolve/main/Counterfeit-V2.5.safetensors\n",
        "#Chillout-Re-generic\n",
        "#!curl -Lo /content/alohomora/models/Stable-diffusion/chilled_re-generic.safetensors https://huggingface.co/nolanaatama/chlldrgnrc/resolve/main/chilled_re-generic.safetensors\n",
        "\n",
        "# ControlNet\n",
        "!curl -Lo /content/alohomora/extensions/controlnet/models/control_v11e_sd15_ip2p.pth https://huggingface.co/lllyasviel/ControlNet-v1-1/resolve/main/control_v11e_sd15_ip2p.pth\n",
        "!curl -Lo /content/alohomora/extensions/controlnet/models/control_v11e_sd15_shuffle.pth https://huggingface.co/lllyasviel/ControlNet-v1-1/resolve/main/control_v11e_sd15_shuffle.pth\n",
        "!curl -Lo /content/alohomora/extensions/controlnet/models/control_v11f1e_sd15_tile.pth https://huggingface.co/lllyasviel/ControlNet-v1-1/resolve/main/control_v11f1e_sd15_tile.pth\n",
        "!curl -Lo /content/alohomora/extensions/controlnet/models/control_v11f1p_sd15_depth.pth https://huggingface.co/lllyasviel/ControlNet-v1-1/resolve/main/control_v11f1p_sd15_depth.pth\n",
        "!curl -Lo /content/alohomora/extensions/controlnet/models/control_v11p_sd15_canny.pth https://huggingface.co/lllyasviel/ControlNet-v1-1/resolve/main/control_v11p_sd15_canny.pth\n",
        "!curl -Lo /content/alohomora/extensions/controlnet/models/control_v11p_sd15_inpaint.pth https://huggingface.co/lllyasviel/ControlNet-v1-1/resolve/main/control_v11p_sd15_inpaint.pth\n",
        "!curl -Lo /content/alohomora/extensions/controlnet/models/control_v11p_sd15_lineart.pth https://huggingface.co/lllyasviel/ControlNet-v1-1/resolve/main/control_v11p_sd15_lineart.pth\n",
        "!curl -Lo /content/alohomora/extensions/controlnet/models/control_v11p_sd15_normalbae.pth https://huggingface.co/lllyasviel/ControlNet-v1-1/resolve/main/control_v11p_sd15_normalbae.pth\n",
        "!curl -Lo /content/alohomora/extensions/controlnet/models/control_v11p_sd15_openpose.pth https://huggingface.co/lllyasviel/ControlNet-v1-1/resolve/main/control_v11p_sd15_openpose.pth\n",
        "!curl -Lo /content/alohomora/extensions/controlnet/models/control_v11p_sd15_scribble.pth https://huggingface.co/lllyasviel/ControlNet-v1-1/resolve/main/control_v11p_sd15_scribble.pth\n",
        "!curl -Lo /content/alohomora/extensions/controlnet/models/control_v11p_sd15_seg.pth https://huggingface.co/lllyasviel/ControlNet-v1-1/resolve/main/control_v11p_sd15_seg.pth\n",
        "!curl -Lo /content/alohomora/extensions/controlnet/models/control_v11p_sd15_softedge.pth https://huggingface.co/lllyasviel/ControlNet-v1-1/resolve/main/control_v11p_sd15_softedge.pth\n",
        "!curl -Lo /content/alohomora/extensions/controlnet/models/control_v11p_sd15s2_lineart_anime.pth https://huggingface.co/lllyasviel/ControlNet-v1-1/resolve/main/control_v11p_sd15s2_lineart_anime.pth\n",
        "!curl -Lo /content/alohomora/extensions/controlnet/models/control_v11p_sd15_mlsd.pth https://huggingface.co/lllyasviel/ControlNet-v1-1/resolve/main/control_v11p_sd15_mlsd.pth\n",
        "!curl -Lo /content/alohomora/extensions/controlnet/models/controlnetT2IAdapter_t2iAdapterColor.safetensors https://civitai.com/api/download/models/20330\n",
        "!curl -Lo /content/alohomora/extensions/controlnet/models/controlnetT2IAdapter_t2iAdapterColor.yaml https://civitai.com/api/download/models/20330?type=Config\n",
        "!curl -Lo /content/alohomora/extensions/controlnet/models/controlnetT2IAdapter_t2iAdapterStyle.safetensors https://civitai.com/api/download/models/20331\n",
        "!curl -Lo /content/alohomora/extensions/controlnet/models/controlnetT2IAdapter_t2iAdapterStyle.yaml https://civitai.com/api/download/models/20331?type=Config\n",
        "!curl -Lo /content/alohomora/extensions/controlnet/models/control_v1p_sd15_qrcode_monster.safetensors https://huggingface.co/monster-labs/control_v1p_sd15_qrcode_monster/blob/main/control_v1p_sd15_qrcode_monster.safetensors\n",
        "!curl -Lo /content/alohomora/extensions/controlnet/models/control_v1p_sd15_qrcode_monster.yaml https://huggingface.co/monster-labs/control_v1p_sd15_qrcode_monster/blob/main/control_v1p_sd15_qrcode_monster.yaml\n",
        "#Repo 2 June 2023\n",
        "#%cd /content/alohomora\n",
        "#!git stash\n",
        "#!git pull origin master\n",
        "#!git checkout b6af0a3809ea869fb180633f9affcae4b199ffcf\n",
        "#!pip install torch==1.13.1+cu117 torchvision==0.14.1+cu117 torchtext==0.14.1 torchaudio==0.13.1 torchdata==0.5.1 --extra-index-url https://download.pytorch.org/whl/cu117\n",
        "#!pip install -q torch==2.0.0+cu118 torchvision==0.15.1+cu118 torchaudio==2.0.1+cu118 torchtext==0.15.1 torchdata==0.6.0 --extra-index-url https://download.pytorch.org/whl/cu118 -U\n",
        "#!pip install -q xformers==0.0.18 triton==2.0.0 -U\n",
        "!apt install libcairo2-dev pkg-config python3-dev\n",
        "!pip install svglib\n",
        "!pip install torchmetrics==0.11.0\n",
        "#!curl -Lo /content/alohomora/config.json https://huggingface.co/datasets/salmonrk/master/blob/main/config.json\n",
        "#!sed -i -e 's/\\\"sd_model_checkpoint\\\"\\,/\\\"sd_model_checkpoint\\,sd_vae\\,CLIP_stop_at_last_layers\\\"\\,/g' /content/alohomora/modules/shared.py\n",
        "# Save Generate files into Google Drive\n",
        "from google.colab import drive\n",
        "drive.mount('/content/drive')\n",
        "#Import Upscaler + embedding\n",
        "import shutil\n",
        "import os\n",
        "!git clone https://huggingface.co/datasets/salmonrk/ESRGAN /content/alohomora/models/ESRGAN \n",
        "shutil.rmtree('/content/alohomora/models/ESRGAN/.git')\n",
        "os.remove('/content/alohomora/models/ESRGAN/.gitattributes')\n",
        "shutil.rmtree('/content/alohomora/embeddings/')\n",
        "!git clone https://huggingface.co/datasets/salmonrk/embeddings /content/alohomora/embeddings\n",
        "shutil.rmtree('/content/alohomora/embeddings/.git')\n",
        "os.remove('/content/alohomora/embeddings/.gitattributes')\n",
        "# Web UI tunnel\n",
        "#!COMMANDLINE_ARGS=\"--share --disable-safe-unpickle --no-half-vae --xformers --enable-insecure-extension- --gradio-queue --theme dark --remotemoe\" REQS_FILE=\"requirements.txt\" python launch.py\n",
        "# If remotemoe failed to start, change '--remotemoe' to '--cloudflared' on the COMMANDLINE_ARGS line above to use cloudflare tunnel"
      ]
    },
    {
      "cell_type": "markdown",
      "metadata": {
        "id": "JUtPlg328avv"
      },
      "source": [
        "# 2. (เมื่อรันข้อ 1 เสร็จ จะปิดเองอัตโนมัติ อาจจะมีข้อความเตือนให้ restart runtime เป็นปกติ ข้ามไปทำข้ออื่นได้เลย)"
      ]
    },
    {
      "cell_type": "markdown",
      "metadata": {
        "id": "DQwVPx-t8Nol"
      },
      "source": [
        "# 3. Upload your Models VAE & LoRAs & Embedding# (Google Drive สร้าง Folder ชื่อ My_Lora My_Model My_Embeddings My_ESRGAN สำหรับลงของส่วนตัว  (My_ESRGAN สำหรับ Upscaler เช่น 4x-UltraSharp))"
      ]
    },
    {
      "cell_type": "code",
      "execution_count": null,
      "metadata": {
        "id": "alypPmxi69M4"
      },
      "outputs": [],
      "source": [
        "from google.colab import drive\n",
        "drive.mount('/content/drive')\n",
        "# You need to upload Model, Lora and Embeddings into google drive on specific path.\n",
        "\n",
        "!mkdir -p '/content/drive/MyDrive/My_Lora/'\n",
        "!mkdir -p '/content/drive/MyDrive/My_Model/'\n",
        "!mkdir -p '/content/drive/MyDrive/My_Embeddings/'\n",
        "!mkdir -p '/content/drive/MyDrive/My_ESRGAN/'\n",
        "!cp -r '/content/drive/MyDrive/My_Lora/.' '/content/alohomora/models/LyCORIS'\n",
        "!cp -r '/content/drive/MyDrive/My_Model/.' '/content/alohomora/models/Stable-diffusion'\n",
        "!cp -r '/content/drive/MyDrive/My_Embeddings/.' '/content/alohomora/embeddings'\n",
        "!cp -r '/content/drive/MyDrive/My_ESRGAN/.' '/content/alohomora/models/ESRGAN'\n",
        "#!cp -r '/content/drive/MyDrive/deforum/.' '/content/alohomora/extensions/deforum'\n",
        "# ...."
      ]
    },
    {
      "cell_type": "markdown",
      "metadata": {
        "id": "R-WXDJ8n8R2X"
      },
      "source": [
        "# 4. Launch the web ui"
      ]
    },
    {
      "cell_type": "code",
      "execution_count": null,
      "metadata": {
        "id": "TFuxn-DE7t82"
      },
      "outputs": [],
      "source": [
        "# Web UI tunnel\n",
        "%cd /content/alohomora\n",
        "!pip install --upgrade fastapi\n",
        "!git stash\n",
        "!git pull origin master\n",
        "!git checkout b6af0a3809ea869fb180633f9affcae4b199ffcf\n",
        "!apt install libcairo2-dev pkg-config python3-dev\n",
        "!pip install svglib\n",
        "!pip install torchmetrics==0.11.0\n",
        "# Web UI tunnel\n",
        "!COMMANDLINE_ARGS=\"--share --no-half-vae --xformers --enable-insecure-extension-access --theme dark --gradio-queue \" REQS_FILE=\"requirements.txt\" python launch.py\n",
        "# If remotemoe failed to start, change '--remotemoe' to '--cloudflared' on the COMMANDLINE_ARGS line above to use cloudflare tunnel"
      ]
    },
    {
      "cell_type": "markdown",
      "metadata": {
        "id": "bZ4OCQHjCuAj"
      },
      "source": [
        "# Option 1. Download new models & VAE"
      ]
    },
    {
      "cell_type": "code",
      "execution_count": null,
      "metadata": {
        "cellView": "form",
        "id": "SaAJk33ppFw1",
        "tags": []
      },
      "outputs": [],
      "source": [
        "!apt-get -y install -qq aria2\n",
        "\n",
        "model = 'Stable-diffusion' #@param [\"adetailer\",\"deepdanbooru\",\"karlo\",\"sam\",\"VAE-approx\",\"Codeformer\",\"ESRGAN\",\"LDSR\",\"Stable-diffusion\",\"ControlNet\",\"GFPGAN\",\"Lora\",\"SwinIR\",\"deepbooru\",\"hypernetworks\",\"LyCORIS\",\"VAE\"]\n",
        "model_path = '/content/alohomora/models/' + model\n",
        "model_url1 = 'https://civitai.com/api/download/models/77276' #@param {type:\"string\"}\n",
        "model_url1 = f\"\\\"{model_url1}\\\"\"\n",
        "\n",
        "!aria2c --console-log-level=error -c -x 16 -s 16 -k 1M {model_url1} -d {model_path}"
      ]
    },
    {
      "cell_type": "markdown",
      "metadata": {
        "id": "uc8wJ0SdCuAl"
      },
      "source": [
        "# Option 2. Copy Generate file to Google Drive"
      ]
    },
    {
      "cell_type": "code",
      "execution_count": null,
      "metadata": {
        "colab": {
          "base_uri": "https://localhost:8080/"
        },
        "id": "6bpC8meCCuAm",
        "outputId": "6eaf9526-c841-4e57-9c5c-ca21e25692c7"
      },
      "outputs": [
        {
          "name": "stdout",
          "output_type": "stream",
          "text": [
            "Mounted at /content/drive\n"
          ]
        }
      ],
      "source": [
        "from google.colab import drive\n",
        "drive.mount('/content/drive')\n",
        "# Copy all genterate file to outputs folder on Google Drive\n",
        "# Stop SD Webui before run these cell\n",
        "\n",
        "!mkdir -p '/content/drive/MyDrive/outputs/'\n",
        "!cp -r '/content/alohomora/outputs/.' '/content/drive/MyDrive/outputs/'\n",
        "# ...."
      ]
    },
    {
      "cell_type": "markdown",
      "metadata": {
        "id": "fhwIXzcgfkoR"
      },
      "source": [
        "# Customized By [SalmonRK] (https://www.facebook.com/salmonrkch)\n",
        "# 📚 GitHub for more: [_@SalmonRK_](https://github.com/SalmonRK)\n"
      ]
    }
  ],
  "metadata": {
    "accelerator": "GPU",
    "colab": {
      "provenance": []
    },
    "gpuClass": "standard",
    "kernelspec": {
      "display_name": "Python 3",
      "name": "python3"
    },
    "language_info": {
      "name": "python"
    }
  },
  "nbformat": 4,
  "nbformat_minor": 0
}
