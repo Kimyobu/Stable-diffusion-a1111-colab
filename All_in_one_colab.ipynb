{
  "nbformat": 4,
  "nbformat_minor": 0,
  "metadata": {
    "colab": {
      "provenance": [],
      "gpuType": "T4",
      "include_colab_link": true
    },
    "kernelspec": {
      "name": "python3",
      "display_name": "Python 3"
    },
    "language_info": {
      "name": "python"
    },
    "accelerator": "GPU"
  },
  "cells": [
    {
      "cell_type": "markdown",
      "metadata": {
        "id": "view-in-github",
        "colab_type": "text"
      },
      "source": [
        "<a href=\"https://colab.research.google.com/github/Kimyobu/Stable-diffusion-a1111-colab/blob/main/All_in_one_colab.ipynb\" target=\"_parent\"><img src=\"https://colab.research.google.com/assets/colab-badge.svg\" alt=\"Open In Colab\"/></a>"
      ]
    },
    {
      "cell_type": "code",
      "source": [
        "#@title # <font size='7'> <font color=\"#3d73f2\">**Manager</font><font color=\"#3db6f2\">U<font color=\"white\">I** <font size=\"6\"> <font color=\"#ff8f4a\">Environment Setup <font color=\"white\">⬇️/🔃\n",
        "from google.colab import output,drive\n",
        "import os\n",
        "import time\n",
        "from IPython.display import display, Markdown\n",
        "\n",
        "mount_google_drive = True #@param {type:\"boolean\"}\n",
        "install_dependencies = False #@param {type:\"boolean\"}\n",
        "\n",
        "%cd /content\n",
        "\n",
        "def MD(markdownstring):\n",
        "    return display(Markdown(markdownstring))\n",
        "\n",
        "if mount_google_drive:\n",
        "    if not os.path.isdir('/content/drive'):\n",
        "        print('Mounting Drive...')\n",
        "        drive.mount('/content/drive', force_remount=True)\n",
        "\n",
        "\n",
        "mainP = '/content/kim-colab-project'\n",
        "\n",
        "repo = 'https://github.com/AUTOMATIC1111/stable-diffusi'+'on-webui.git'\n",
        "!git clone {repo} A1111\n",
        "!git clone https://github.com/comfyanonymous/ComfyUI.git ComfyUI\n",
        "!git clone https://github.com/vladmandic/automatic.git SDNext\n",
        "\n",
        "if os.path.isdir(mainP):\n",
        "    %cd $mainP\n",
        "    !git pull\n",
        "    !git reset --hard origin\n",
        "    %cd /content\n",
        "else:\n",
        "    !git clone https://github.com/Kimyobu/Stable-diffusion-a1111-colab.git kim-colab-project\n",
        "\n",
        "if install_dependencies:\n",
        "    !echo -= Install Requirements =-\n",
        "    time.sleep(1)\n",
        "    #ComfyUI\n",
        "    !echo -= Install dependencies @ComfyUI =-\n",
        "    !pip install xformers!=0.0.18 -r /ComfyUI/requirements.txt --extra-index-url https://download.pytorch.org/whl/cu118 --extra-index-url https://download.pytorch.org/whl/cu117\n",
        "\n",
        "\n",
        "output.clear()\n",
        "MD('<font color=\"lime\"> SetUP Envoriment Complete✓✅☑️✔️')"
      ],
      "metadata": {
        "id": "wi76LU97NX7G",
        "colab": {
          "base_uri": "https://localhost:8080/",
          "height": 46
        },
        "cellView": "form",
        "outputId": "e699fc9e-e5fb-4e95-ac98-3a084b89ebff"
      },
      "execution_count": null,
      "outputs": [
        {
          "output_type": "display_data",
          "data": {
            "text/plain": [
              "<IPython.core.display.Markdown object>"
            ],
            "text/markdown": "<font color=\"lime\"> SetUP Envoriment Complete✓✅☑️✔️"
          },
          "metadata": {}
        }
      ]
    },
    {
      "cell_type": "code",
      "execution_count": null,
      "metadata": {
        "id": "SZ1lO6mSzwy6",
        "cellView": "form"
      },
      "outputs": [],
      "source": [
        "#@title <font size=6 color=\"orange\">Launch <font color=\"#3d73f2\">**Manager</font><font color=\"#3db6f2\">U<font color=\"white\">I**\n",
        "\n",
        "PORT = 54230 # @param {type:\"integer\"}\n",
        "\n",
        "!echo -= Starting WebUi -=\n",
        "\n",
        "!python /content/kim-colab-project/UI/launch.py {PORT}\n",
        "\n",
        "!echo -= Closed WebUi -="
      ]
    },
    {
      "cell_type": "code",
      "source": [
        "# @title <font size=6 color=\"orange\">Launch <font color=\"red\">**Web</font><font color=\"#ff6940\">U<font color=\"white\">I**\n",
        "selected_ui = 'A1111' #@param [\"ComfyUi\", \"A1111\", \"SDNext\", \"Face\"]\n",
        "use_google_drive = True # @param {type:\"boolean\"}\n",
        "#@markdown * <font size=4 color='aqua'>CommandLine Arguments <p><font color='#a6ff00'>ComfyUi: <font color=\"#7fbcf5\">--preview-method auto --dont-print-server --highvram</p> <p><font color=\"white\"> A1111: <font color=\"#7fbcf5\">--share --no-half-vae --xformers --enable-insecure-extension-access --theme dark</p> <p><font color=\"orange\">SDNext: <font color=\"#7fbcf5\">--share --insecure</p>\n",
        "args = \"--share --no-half-vae --xformers --enable-insecure-extension-access --theme dark\" # @param {type:\"string\"}\n",
        "cmd = f'--app {app} --args {args}'\n",
        "if use_google_drive is True:\n",
        "    cmd+=' --use_google_drive'\n",
        "\n",
        "!echo -= Starting WebUi =-\n",
        "\n",
        "!python /content/kim-colab-project/UI/webui.py {cmd}\n",
        "\n",
        "!echo -= Closed WebUi =-"
      ],
      "metadata": {
        "id": "CYq_fsQd-60i",
        "cellView": "form"
      },
      "execution_count": null,
      "outputs": []
    },
    {
      "cell_type": "code",
      "source": [
        "# @title ##<font color=\"yellow\">File Explorer📁\n",
        "!pip install -U imjoy-elfinder\n",
        "import threading\n",
        "from google.colab import output\n",
        "from imjoy_elfinder.app import main\n",
        "output.clear()\n",
        "\n",
        "PORT = 4321 #@param {type:\"number\"}\n",
        "root_dir = \"/content\"\n",
        "open_in_new_tab = False\n",
        "\n",
        "def start_file_explorer(root_dir=root_dir, port=PORT):\n",
        "    try:\n",
        "        main([\"--root-dir=\" + root_dir, \"--port=\" + str(port)])\n",
        "    except Exception as e:\n",
        "        print(\"Error starting file explorer:\", str(e))\n",
        "\n",
        "\n",
        "def open_file_explorer(open_in_new_tab=False, root_dir=root_dir, port=PORT):\n",
        "    thread = threading.Thread(target=start_file_explorer, args=[root_dir, port])\n",
        "    thread.start()\n",
        "    output.serve_kernel_port_as_iframe(port, height=\"500\")\n",
        "\n",
        "open_file_explorer(port=PORT)"
      ],
      "metadata": {
        "cellView": "form",
        "id": "JtBI8akbQ0QI"
      },
      "execution_count": null,
      "outputs": []
    }
  ]
}