{
  "nbformat": 4,
  "nbformat_minor": 0,
  "metadata": {
    "colab": {
      "private_outputs": true,
      "provenance": [],
      "gpuType": "T4",
      "authorship_tag": "ABX9TyM1Iac6qQohIPtzTRhFxIF6",
      "include_colab_link": true
    },
    "kernelspec": {
      "name": "python3",
      "display_name": "Python 3"
    },
    "language_info": {
      "name": "python"
    },
    "accelerator": "GPU"
  },
  "cells": [
    {
      "cell_type": "markdown",
      "metadata": {
        "id": "view-in-github",
        "colab_type": "text"
      },
      "source": [
        "<a href=\"https://colab.research.google.com/github/Kimyobu/Stable-diffusion-a1111-colab/blob/main/All_in_one_colab.ipynb\" target=\"_parent\"><img src=\"https://colab.research.google.com/assets/colab-badge.svg\" alt=\"Open In Colab\"/></a>"
      ]
    },
    {
      "cell_type": "code",
      "source": [
        "#@title # <font size='7'> <font color=\"#3d73f2\">**Manager</font><font color=\"#3db6f2\">U</font>I** <font size=\"6\"> <font color=\"#ff8f4a\">Environment Setup <font color=\"white\">⬇️/🔃\n",
        "from google.colab import output,drive\n",
        "import os\n",
        "import time\n",
        "from IPython.display import display, Markdown\n",
        "\n",
        "mount_google_drive = True #@param {type:\"boolean\"}\n",
        "install_dependencies = False #@param {type:\"boolean\"}\n",
        "\n",
        "%cd /content\n",
        "\n",
        "def MD(markdownstring):\n",
        "    return display(Markdown(markdownstring))\n",
        "\n",
        "if mount_google_drive:\n",
        "    if not os.path.isdir('/content/drive'):\n",
        "        print('Mounting Drive...')\n",
        "        drive.mount('/content/drive', force_remount=True)\n",
        "\n",
        "\n",
        "mainP = '/content/kim-colab-project'\n",
        "\n",
        "repo = 'https://github.com/AUTOMATIC1111/stable-diffusi'+'on-webui.git'\n",
        "!git clone {repo} A1111\n",
        "!git clone https://github.com/comfyanonymous/ComfyUI.git ComfyUI\n",
        "!git clone https://github.com/vladmandic/automatic.git SDNext\n",
        "\n",
        "if os.path.isdir(mainP):\n",
        "    %cd $mainP\n",
        "    !git pull\n",
        "    %cd /content\n",
        "else:\n",
        "    !git clone https://github.com/Kimyobu/Stable-diffusion-a1111-colab.git kim-colab-project\n",
        "\n",
        "if install_dependencies:\n",
        "    !echo -= Install Requirements =-\n",
        "    time.sleep(1)\n",
        "    #ComfyUI\n",
        "    !echo -= Install dependencies @ComfyUI =-\n",
        "    !pip install xformers!=0.0.18 -r /ComfyUI/requirements.txt --extra-index-url https://download.pytorch.org/whl/cu118 --extra-index-url https://download.pytorch.org/whl/cu117\n",
        "\n",
        "\n",
        "!pip install gradio==3.32.0\n",
        "output.clear()\n",
        "MD('<font color=\"lime\"> SetUP Envoriment Complete✓✅☑️✔️')"
      ],
      "metadata": {
        "id": "wi76LU97NX7G",
        "cellView": "form"
      },
      "execution_count": null,
      "outputs": []
    },
    {
      "cell_type": "markdown",
      "source": [],
      "metadata": {
        "id": "4xprFu6rnF-_"
      }
    },
    {
      "cell_type": "code",
      "execution_count": null,
      "metadata": {
        "id": "SZ1lO6mSzwy6"
      },
      "outputs": [],
      "source": [
        "#@title Launch Manager Ui\n",
        "pip_install_gradio = False #@param {type: \"boolean\"}\n",
        "\n",
        "from google.colab import output\n",
        "\n",
        "def clear():\n",
        "    return output.clear()\n",
        "\n",
        "if pip_install_gradio:\n",
        "    !echo -= Install Gradio =-\n",
        "    !pip install gradio==3.32.0\n",
        "    clear()\n",
        "\n",
        "%cd $mainP\n",
        "!echo -= Launch WebUi =-\n",
        "import gradio as gr\n",
        "import module.a1111 as A1111\n",
        "\n",
        "def run():\n",
        "    print('test')\n",
        "\n",
        "with gr.Blocks() as ui:\n",
        "    with gr.Tab('Launcher WebUI'):\n",
        "        with gr.Row():\n",
        "            gr.Markdown('A1111')\n",
        "            b = gr.Button()\n",
        "\n",
        "    b.click(fn=run)\n",
        "\n",
        "ui.launch(share=True,debug=True)\n",
        "\n",
        "!echo -= Closed WebUi -="
      ]
    }
  ]
}