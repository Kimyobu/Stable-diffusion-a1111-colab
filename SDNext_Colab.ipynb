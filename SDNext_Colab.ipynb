{
  "nbformat": 4,
  "nbformat_minor": 0,
  "metadata": {
    "colab": {
      "private_outputs": true,
      "provenance": [],
      "gpuType": "T4"
    },
    "kernelspec": {
      "name": "python3",
      "display_name": "Python 3"
    },
    "language_info": {
      "name": "python"
    },
    "accelerator": "GPU"
  },
  "cells": [
    {
      "cell_type": "markdown",
      "source": [
        "---\n",
        "#This is beta test"
      ],
      "metadata": {
        "id": "iPVQuc1oobpV"
      }
    },
    {
      "cell_type": "code",
      "execution_count": null,
      "metadata": {
        "cellView": "form",
        "id": "uMLut-NnQKpt"
      },
      "outputs": [],
      "source": [
        "#@title SetUP SDNext WebUI\n",
        "#@markdown Github Repo: https://github.com/vladmandic/automatic\n",
        "import os\n",
        "from google.colab import output, drive\n",
        "def mount():\n",
        "    c = True\n",
        "    p = '/content/drive'\n",
        "    if os.path.exists(p):\n",
        "        c = False\n",
        "    if c :\n",
        "        drive.mount(p, force_remount=True)\n",
        "\n",
        "if import_model_from_drive:\n",
        "   mount()\n",
        "!git clone https://github.com/vladmandic/automatic project\n",
        "import_model_from_drive = True #@param {type: \"boolean\"}\n",
        "if import_model_from_drive:\n",
        "   !!apt-get -y install -qq aria2\n",
        "   save_path =  '/content/drive/MyDrive/kimyobu-colab/models/'\n",
        "   model_path = '/content/project/models/'\n",
        "   !mkdir -p {save_path}\n",
        "   for x in os.listdir(save_path):\n",
        "       fol = model_path + x.split('.')[0]\n",
        "       !mkdir -p {fol}\n",
        "       !aria2c --console-log-level=error -c -x 16 -s 16 -k 1M -i {save_path + x} -d {fol}\n",
        "%cd /content/project\n",
        "!python installer.py\n",
        "!pip install -r requirements.txt\n",
        "!!apt-get -y install -qq aria2\n",
        "os.environ['setup'] = 'True'\n",
        "output.clear()\n",
        "print('\\033[38;5;82m' + 'Setup WebUI Complete')"
      ]
    },
    {
      "cell_type": "code",
      "source": [
        "#@title Extension installer\n",
        "url = '' #@param {type: \"string\"}\n",
        "branch = 'default' #@param {type:\"string\"}\n",
        "name = 'default' #@param {type: \"string\"}\n",
        "\n",
        "if branch != 'default':\n",
        "    if name != 'default':\n",
        "        !git clone --branch {branch} {url} {name}\n",
        "    else:\n",
        "        !git clone --branch {branch} {url}\n",
        "else :\n",
        "    if name != 'default':\n",
        "        !git clone {url} {name}\n",
        "    else !git clone {url}"
      ],
      "metadata": {
        "cellView": "form",
        "id": "PDeY9stDZy0o"
      },
      "execution_count": null,
      "outputs": []
    },
    {
      "cell_type": "markdown",
      "source": [
        "#**Model Installer**"
      ],
      "metadata": {
        "id": "Ei8RhN8Bi3sH"
      }
    },
    {
      "cell_type": "code",
      "source": [
        "#@title Runtime Install\n",
        "#@markdown * Install to Runtime storage<br>อันนี้มันจะลงที่ Runtime\n",
        "import os\n",
        "if not os.environ.get('setup'):\n",
        "    raise SystemExit('\\033[31mRun SetUP WebUI FIRST!!\\033[39m')\n",
        "!apt-get -y install -qq aria2\n",
        "save_path = '/content/project/models/'\n",
        "model_type = 'Stable-diffusion' #@param [\"adetailer\",\"deepdanbooru\",\"karlo\",\"sam\",\"VAE-approx\",\"Codeformer\",\"ESRGAN\",\"LDSR\",\"Stable-diffusion\",\"ControlNet\",\"GFPGAN\",\"Lora\",\"SwinIR\",\"deepbooru\",\"hypernetworks\",\"LyCORIS\",\"VAE\"]\n",
        "model_path = save_path + model_type\n",
        "model_url = 'https://civitai.com/api/download/models/113576' #@param {type:\"string\"}\n",
        "#@markdown > Uninstall not support you can manually delete model file in models folder at /content/project/models<br>ไม่รองรับการลบโมเดลสามารถลบเองได้ที่ folder /content/project/models/\n",
        "model_url = f\"\\\"{model_url}\\\"\"\n",
        "!mkdir -p \"{model_path}\"\n",
        "\n",
        "!aria2c --console-log-level=error -c -x 16 -s 16 -k 1M {model_url} -d {model_path}"
      ],
      "metadata": {
        "cellView": "form",
        "id": "x9wBG3jBkp0X"
      },
      "execution_count": null,
      "outputs": []
    },
    {
      "cell_type": "code",
      "source": [
        "#@title Google_Drive Install\n",
        "#@markdown * Install to Google_Drive storage<br>อันนี้มันจะลงที่ Google_Drive\n",
        "import os\n",
        "if not os.environ.get('setup'):\n",
        "    raise SystemExit('\\033[31mRun SetUP WebUI FIRST!!\\033[39m')\n",
        "mount()\n",
        "!apt-get -y install -qq aria2\n",
        "model_type = 'Stable-diffusion' #@param [\"adetailer\",\"deepdanbooru\",\"karlo\",\"sam\",\"VAE-approx\",\"Codeformer\",\"ESRGAN\",\"LDSR\",\"Stable-diffusion\",\"ControlNet\",\"GFPGAN\",\"Lora\",\"SwinIR\",\"deepbooru\",\"hypernetworks\",\"LyCORIS\",\"VAE\"]\n",
        "model_url = 'https://civitai.com/api/download/models/113576' #@param {type:\"string\"}\n",
        "#@markdown > Uninstall can manually edit at /content/drive/MyDrive/kimyobu-colab/models<br>สามารถลบโมเดลทที่เซฟไว้ในไดร์ฟที่ /content/drive/MyDrive/kimyobu-colab/models\n",
        "uninstall_model = False #@param {type: \"boolean\"}\n",
        "model_path = '/content/project/models/' + model_type\n",
        "save_path =  '/content/drive/MyDrive/kimyobu-colab/models/'\n",
        "!mkdir -p {save_path}\n",
        "path = save_path + model_type + '.txt'\n",
        "!touch {path}\n",
        "f = open(path, 'r')\n",
        "r = ''\n",
        "!rm -r {path}\n",
        "if uninstall_model:\n",
        "    for x in rd(f.read().split('\\n')):\n",
        "        if x != model_url :\n",
        "            r += x + '\\n'\n",
        "    f.close()\n",
        "    open(path, 'a').write(r)\n",
        "    print('\\033[31mUninstall ' + model_url + ' \\033[39mfrom \\033[38;5;14m' + path)\n",
        "else :\n",
        "    r = join('\\n', rd(f.read().split('\\n')), model_url)\n",
        "    f.close()\n",
        "    open(path, 'a').write(r)\n",
        "    print('\\n' + '\\033[38;5;82mStatus OK ' + '\\033[39mInstall model to \\033[38;5;14m' + save_path + model_type)\n",
        "    print('\\033[38;5;190mCurrent List:\\n' + open(path, 'r').read())\n",
        "    #Import state\n",
        "    import_to_runtime = True #@param {type: \"boolean\"}\n",
        "    if import_to_runtime\n",
        "        print('\\n' + '\\033[38;5;190mWait for install to runtime')\n",
        "        !mkdir -p {model_path}\n",
        "        !aria2c --console-log-level=error -c -x 16 -s 16 -k 1M {model_url} -d {model_path}\n",
        "\n",
        "model_url = f\"\\\"{model_url}\\\"\""
      ],
      "metadata": {
        "cellView": "form",
        "id": "NZSWfvOCjNqo"
      },
      "execution_count": null,
      "outputs": []
    },
    {
      "cell_type": "markdown",
      "source": [
        "#**WebUI**"
      ],
      "metadata": {
        "id": "-QjRkZ0NjExY"
      }
    },
    {
      "cell_type": "code",
      "source": [
        "#@title Launch WebUI Gradio\n",
        "#@markdown #Launch WebUI\n",
        "save_to_drive = True #@param {type:\"boolean\"}\n",
        "import os\n",
        "if not os.environ.get('setup'):\n",
        "    raise SystemExit('\\033[31mRun SetUP WebUI FIRST!!\\033[39m')\n",
        "%cd /content/project\n",
        "if save_to_drive:\n",
        "   mount()\n",
        "   !aria2c --console-log-level=error -c -x 16 -s 16 -k 1M https://raw.githubusercontent.com/Kimyobu/Stable-diffusion-a1111-colab/main/config.json\n",
        "!aria2c --console-log-level=error -c -x 16 -s 16 -k 1M https://raw.githubusercontent.com/Kimyobu/Stable-diffusion-a1111-colab/main/styles.csv\n",
        "!python launch.py --share --theme dark"
      ],
      "metadata": {
        "id": "0ODMPioZQ2E2",
        "cellView": "form"
      },
      "execution_count": null,
      "outputs": []
    },
    {
      "cell_type": "code",
      "source": [
        "#@markdown * Copy generated files to drive\n",
        "import os\n",
        "if not os.environ.get('setup'):\n",
        "    raise SystemExit('\\033[31mRun SetUP WebUI FIRST!!\\033[39m')\n",
        "mount()\n",
        "!cp -r /content/project/outputs/* /content/drive/MyDrive/kimyobu-colab/outputs"
      ],
      "metadata": {
        "cellView": "form",
        "id": "_7pZrrsBlzE8"
      },
      "execution_count": null,
      "outputs": []
    },
    {
      "cell_type": "markdown",
      "source": [
        "---"
      ],
      "metadata": {
        "id": "Qhm7q1H1ohVs"
      }
    },
    {
      "cell_type": "markdown",
      "source": [
        "# @**Credit**\n",
        "##**<a href=\"https://github.com/Kimyobu\" title=\"Visit me on github\">Kimyobu</a> <a href=\"https://discord.gg/aith\" title=\"See us in community\">Discord Community**</a>\n",
        "<a href=\"https://github.com/Kimyobu\" title=\"Visit me on github\" style=\"margin-right: 100px;\"><img src=\"https://avatars.githubusercontent.com/u/91616822?v=4\" width=100px height=100px></a>  <a href=\"https://discord.gg/aith\" title=\"See us in community\"><img src=\"https://cdn.discordapp.com/icons/850018471096877096/a_79e2f1a6a99f763a924ef3e1d3ef7c6f.webp\" width=100px height=100px></a>"
      ],
      "metadata": {
        "id": "mvEK0S-nIlqv"
      }
    },
    {
      "cell_type": "markdown",
      "source": [
        "---"
      ],
      "metadata": {
        "id": "QrGsIeGkImBu"
      }
    }
  ]
}