{
  "nbformat": 4,
  "nbformat_minor": 0,
  "metadata": {
    "colab": {
      "private_outputs": true,
      "provenance": [],
      "gpuType": "T4",
      "authorship_tag": "ABX9TyMN7/xJQD0QXAq58wjP+iCS",
      "include_colab_link": true
    },
    "kernelspec": {
      "name": "python3",
      "display_name": "Python 3"
    },
    "language_info": {
      "name": "python"
    },
    "accelerator": "GPU"
  },
  "cells": [
    {
      "cell_type": "markdown",
      "metadata": {
        "id": "view-in-github",
        "colab_type": "text"
      },
      "source": [
        "<a href=\"https://colab.research.google.com/github/Kimyobu/Stable-diffusion-a1111-colab/blob/main/SDNext_Colab.ipynb\" target=\"_parent\"><img src=\"https://colab.research.google.com/assets/colab-badge.svg\" alt=\"Open In Colab\"/></a>"
      ]
    },
    {
      "cell_type": "markdown",
      "source": [
        "---\n",
        "#This is beta test"
      ],
      "metadata": {
        "id": "iPVQuc1oobpV"
      }
    },
    {
      "cell_type": "code",
      "execution_count": null,
      "metadata": {
        "cellView": "form",
        "id": "uMLut-NnQKpt"
      },
      "outputs": [],
      "source": [
        "#@title SetUP SDNext WebUI\n",
        "#@markdown Github Repo: https://github.com/vladmandic/automatic\n",
        "from google.colab import output\n",
        "!git clone https://github.com/vladmandic/automatic project\n",
        "%cd /content/project\n",
        "!python installer.py\n",
        "!pip install -r requirements.txt\n",
        "output.clear()"
      ]
    },
    {
      "cell_type": "code",
      "source": [
        "#@title Model Installer\n",
        "import os\n",
        "!!apt-get -y install -qq aria2\n",
        "save_path = '/content/project/models/'\n",
        "model_type = 'Stable-diffusion' #@param [\"adetailer\",\"deepdanbooru\",\"karlo\",\"sam\",\"VAE-approx\",\"Codeformer\",\"ESRGAN\",\"LDSR\",\"Stable-diffusion\",\"ControlNet\",\"GFPGAN\",\"Lora\",\"SwinIR\",\"deepbooru\",\"hypernetworks\",\"LyCORIS\",\"VAE\"]\n",
        "model_path = save_path + model_type\n",
        "model_url = 'https://civitai.com/api/download/models/113576' #@param {type:\"string\"}\n",
        "#@markdown > Uninstall not support you can manually delete model file in models folder at /content/project/models<br>ไม่รองรับการลบโมเดลสามารถลบเองได้ที่ folder /content/project/models/\n",
        "model_url = f\"\\\"{model_url}\\\"\"\n",
        "!mkdir -p \"{model_path}\"\n",
        "\n",
        "!aria2c --console-log-level=error -c -x 16 -s 16 -k 1M {model_url} -d {model_path}"
      ],
      "metadata": {
        "cellView": "form",
        "id": "x9wBG3jBkp0X"
      },
      "execution_count": null,
      "outputs": []
    },
    {
      "cell_type": "code",
      "source": [
        "#@title Launch WebUI Gradio\n",
        "%cd /content/project\n",
        "!aria2c --console-log-level=error -c -x 16 -s 16 -k 1M https://raw.githubusercontent.com/Kimyobu/Stable-diffusion-a1111-colab/main/styles.csv\n",
        "!python launch.py --backend diffusers --share --theme dark"
      ],
      "metadata": {
        "id": "0ODMPioZQ2E2"
      },
      "execution_count": null,
      "outputs": []
    },
    {
      "cell_type": "markdown",
      "source": [
        "---"
      ],
      "metadata": {
        "id": "Qhm7q1H1ohVs"
      }
    }
  ]
}