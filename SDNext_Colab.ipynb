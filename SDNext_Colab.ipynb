{
  "cells": [
    {
      "cell_type": "markdown",
      "metadata": {
        "id": "view-in-github",
        "colab_type": "text"
      },
      "source": [
        "<a href=\"https://colab.research.google.com/github/Kimyobu/Stable-diffusion-a1111-colab/blob/main/SDNext_Colab.ipynb\" target=\"_parent\"><img src=\"https://colab.research.google.com/assets/colab-badge.svg\" alt=\"Open In Colab\"/></a>"
      ]
    },
    {
      "cell_type": "markdown",
      "metadata": {
        "id": "iPVQuc1oobpV"
      },
      "source": [
        "---\n",
        "#This is beta test"
      ]
    },
    {
      "cell_type": "code",
      "execution_count": null,
      "metadata": {
        "cellView": "form",
        "id": "uMLut-NnQKpt"
      },
      "outputs": [],
      "source": [
        "#@title ###**SetUP SDNext WebUI**⬇️\n",
        "#@markdown **SDNext Github Repo: https://github.com/vladmandic/automatic**\n",
        "import os\n",
        "from google.colab import output, drive\n",
        "def mount():\n",
        "    c = True\n",
        "    p = '/content/drive'\n",
        "    if os.path.exists(p):\n",
        "        c = False\n",
        "    if c :\n",
        "        drive.mount(p, force_remount=True)\n",
        "\n",
        "def git_clone(repo, path):\n",
        "    if path:\n",
        "        %cd {path}\n",
        "    for x in repo:\n",
        "        !git clone {x}\n",
        "    %cd\n",
        "\n",
        "def join(d: str, l: list[str], *a:str):\n",
        "    for x in a:\n",
        "        l.append(x)\n",
        "    return d.join(l)\n",
        "\n",
        "def rd(l):\n",
        "    return [*set(l)]\n",
        "\n",
        "install_extension = True #@param {type: \"boolean\"}\n",
        "install_ControlNet_model = True #@param {type: \"boolean\"}\n",
        "#@markdown ---\n",
        "import_model_from_drive = True #@param {type: \"boolean\"}\n",
        "if import_model_from_drive:\n",
        "   mount()\n",
        "\n",
        "if not os.environ.get('setup'):\n",
        "    !python installer.py\n",
        "    !pip install -r requirements.txt\n",
        "    !apt-get -y install -qq aria2\n",
        "    os.environ['setup'] = 'True'\n",
        "\n",
        "!git clone https://github.com/vladmandic/automatic project\n",
        "if install_extension:\n",
        "   !aria2c --console-log-level=error -c -x 16 -s 16 -k 1M https://raw.githubusercontent.com/Kimyobu/Stable-diffusion-a1111-colab/main/SD/extensions.txt\n",
        "   install = open('/content/extensions.txt', 'r').read().split('\\n')\n",
        "   git_clone(install, '/content/project/extensions')\n",
        "if install_ControlNet_model:\n",
        "   print('\\033[38;5;190mWait for install ControlNet Models\\033[39m')\n",
        "   p = '/content/project/extensions/sd-we' + 'bui-controlnet/models'\n",
        "   !aria2c --console-log-level=error -c -x 16 -s 16 -k 1M https://raw.githubusercontent.com/Kimyobu/Stable-diffusion-a1111-colab/main/SD/control_net_model.json -d /content\n",
        "   o = json.load(open('/content/control_net_model.json', 'r'))\n",
        "   for x in o:\n",
        "        l = f\"\\\"{x}\\\"\"\n",
        "        !aria2c --console-log-level=error -c -x 16 -s 16 -k 1M {l} -o {o[x]} -d {p}\n",
        "if import_model_from_drive:\n",
        "   save_path =  '/content/drive/MyDrive/kimyobu-colab/models/'\n",
        "   model_path = '/content/project/models/'\n",
        "   !mkdir -p {save_path}\n",
        "   for x in os.listdir(save_path):\n",
        "       fol = model_path + x.split('.')[0]\n",
        "       !mkdir -p {fol}\n",
        "       !aria2c --console-log-level=error -c -x 16 -s 16 -k 1M -i {save_path + x} -d {fol}\n",
        "\n",
        "%cd /content/project\n",
        "output.clear()\n",
        "print('\\033[38;5;82m' + 'Setup WebUI Complete')"
      ]
    },
    {
      "cell_type": "markdown",
      "metadata": {
        "id": "Ei8RhN8Bi3sH"
      },
      "source": [
        "#**Model Installer**⬇️"
      ]
    },
    {
      "cell_type": "code",
      "execution_count": null,
      "metadata": {
        "cellView": "form",
        "id": "x9wBG3jBkp0X"
      },
      "outputs": [],
      "source": [
        "#@title Runtime Install⬇️\n",
        "#@markdown * Install to Runtime storage<br>อันนี้มันจะลงที่ Runtime\n",
        "import os\n",
        "if not os.environ.get('setup'):\n",
        "    raise SystemExit('\\033[31mRun SetUP WebUI FIRST!!\\033[39m')\n",
        "save_path = '/content/project/models/'\n",
        "model_type = 'Stable-diffusion' #@param [\"adetailer\",\"deepdanbooru\",\"karlo\",\"sam\",\"VAE-approx\",\"Codeformer\",\"ESRGAN\",\"LDSR\",\"Stable-diffusion\",\"ControlNet\",\"GFPGAN\",\"Lora\",\"SwinIR\",\"deepbooru\",\"hypernetworks\",\"LyCORIS\",\"VAE\"]\n",
        "model_path = save_path + model_type\n",
        "model_url = 'https://civitai.com/api/download/models/113576' #@param {type:\"string\"}\n",
        "#@markdown > Uninstall not support you can manually delete model file in models folder at /content/project/models<br>ไม่รองรับการลบโมเดลสามารถลบเองได้ที่ folder /content/project/models/\n",
        "model_url = f\"\\\"{model_url}\\\"\"\n",
        "!mkdir -p \"{model_path}\"\n",
        "\n",
        "!aria2c --console-log-level=error -c -x 16 -s 16 -k 1M {model_url} -d {model_path}"
      ]
    },
    {
      "cell_type": "code",
      "execution_count": null,
      "metadata": {
        "cellView": "form",
        "id": "NZSWfvOCjNqo"
      },
      "outputs": [],
      "source": [
        "#@title Google_Drive Install⬇️\n",
        "#@markdown * Install to Google_Drive storage<br>อันนี้มันจะลงที่ Google_Drive\n",
        "import os\n",
        "if not os.environ.get('setup'):\n",
        "    raise SystemExit('\\033[31mRun SetUP WebUI FIRST!!\\033[39m')\n",
        "mount()\n",
        "model_type = 'Stable-diffusion' #@param [\"adetailer\",\"deepdanbooru\",\"karlo\",\"sam\",\"VAE-approx\",\"Codeformer\",\"ESRGAN\",\"LDSR\",\"Stable-diffusion\",\"ControlNet\",\"GFPGAN\",\"Lora\",\"SwinIR\",\"deepbooru\",\"hypernetworks\",\"LyCORIS\",\"VAE\"]\n",
        "model_url = 'https://civitai.com/api/download/models/113576' #@param {type:\"string\"}\n",
        "#@markdown > Uninstall can manually edit at /content/drive/MyDrive/kimyobu-colab/models<br>สามารถลบโมเดลทที่เซฟไว้ในไดร์ฟที่ /content/drive/MyDrive/kimyobu-colab/models\n",
        "uninstall_model = False #@param {type: \"boolean\"}\n",
        "model_path = '/content/project/models/' + model_type\n",
        "save_path =  '/content/drive/MyDrive/kimyobu-colab/models/'\n",
        "!mkdir -p {save_path}\n",
        "path = save_path + model_type + '.txt'\n",
        "!touch {path}\n",
        "f = open(path, 'r')\n",
        "r = ''\n",
        "!rm -r {path}\n",
        "if uninstall_model:\n",
        "    for x in rd(f.read().split('\\n')):\n",
        "        if x != model_url :\n",
        "            r += x + '\\n'\n",
        "    f.close()\n",
        "    open(path, 'a').write(r)\n",
        "    print('\\033[31mUninstall ' + model_url + ' \\033[39mfrom \\033[38;5;14m' + path)\n",
        "else :\n",
        "    r = join('\\n', rd(f.read().split('\\n')), model_url)\n",
        "    f.close()\n",
        "    open(path, 'a').write(r)\n",
        "    print('\\n' + '\\033[38;5;82mStatus OK ' + '\\033[39mInstall model to \\033[38;5;14m' + save_path + model_type)\n",
        "    print('\\033[38;5;190mCurrent List:\\n' + open(path, 'r').read())\n",
        "    #Import state\n",
        "    import_to_runtime = True #@param {type: \"boolean\"}\n",
        "    if import_to_runtime\n",
        "        print('\\n' + '\\033[38;5;190mWait for install to runtime')\n",
        "        !mkdir -p {model_path}\n",
        "        !aria2c --console-log-level=error -c -x 16 -s 16 -k 1M {model_url} -d {model_path}\n",
        "\n",
        "model_url = f\"\\\"{model_url}\\\"\""
      ]
    },
    {
      "cell_type": "markdown",
      "metadata": {
        "id": "-QjRkZ0NjExY"
      },
      "source": [
        "#**WebUI**🕸️"
      ]
    },
    {
      "cell_type": "code",
      "execution_count": null,
      "metadata": {
        "cellView": "form",
        "id": "0ODMPioZQ2E2"
      },
      "outputs": [],
      "source": [
        "#@title Launch WebUI🚀\n",
        "#@markdown #Launch WebUI🚀\n",
        "save_to_drive = True #@param {type:\"boolean\"}\n",
        "args = '--share --theme dark --opt-sdp-attention' #@param {type: \"string\"}\n",
        "import os\n",
        "if not os.environ.get('setup'):\n",
        "    raise SystemExit('\\033[31mRun SetUP WebUI FIRST!!\\033[39m')\n",
        "%cd /content/project\n",
        "if save_to_drive:\n",
        "   mount()\n",
        "   !aria2c --console-log-level=error -c -x 16 -s 16 -k 1M https://raw.githubusercontent.com/Kimyobu/Stable-diffusion-a1111-colab/main/SDNext/config-sdnext.json -o config.json\n",
        "!aria2c --console-log-level=error -c -x 16 -s 16 -k 1M https://raw.githubusercontent.com/Kimyobu/Stable-diffusion-a1111-colab/main/styles.csv\n",
        "#Launch WebUI Gradio\n",
        "args = f\"\\\"{args}\\\"\"\n",
        "!python launch.py"
      ]
    },
    {
      "cell_type": "code",
      "execution_count": null,
      "metadata": {
        "cellView": "form",
        "id": "_7pZrrsBlzE8"
      },
      "outputs": [],
      "source": [
        "#@markdown * Copy generated files to drive\n",
        "import os\n",
        "if not os.environ.get('setup'):\n",
        "    raise SystemExit('\\033[31mRun SetUP WebUI FIRST!!\\033[39m')\n",
        "mount()\n",
        "!cp -r /content/project/outputs/* /content/drive/MyDrive/kimyobu-colab/outputs"
      ]
    },
    {
      "cell_type": "code",
      "source": [
        "#@title Downloader⬇️\n",
        "#@markdown * Install to Runtime storageอันนี้มันจะลงที่ Runtime\n",
        "import os\n",
        "if not os.environ.get('setup'):\n",
        "    raise SystemExit('\\033[31mRun SetUP WebUI FIRST!!\\033[39m')\n",
        "save_path = '/content/project/'\n",
        "folder = 'embeddings' #@param {type:\"string\"}\n",
        "path = save_path + folder\n",
        "url = 'https://civitai.com/api/download/models/9208' #@param {type:\"string\"}\n",
        "url = f\"\\\"{url}\\\"\"\n",
        "!mkdir -p {path}\n",
        "\n",
        "!aria2c --console-log-level=error -c -x 16 -s 16 -k 1M {url} -d {path}"
      ],
      "metadata": {
        "cellView": "form",
        "id": "W6Pdbm4aGNTY"
      },
      "execution_count": null,
      "outputs": []
    },
    {
      "cell_type": "code",
      "source": [
        "#@title ##File Explorer📁\n",
        "import threading\n",
        "from google.colab import output\n",
        "from imjoy_elfinder.app import main\n",
        "!pip install -U imjoy-elfinder\n",
        "output.clear()\n",
        "\n",
        "root_dir = \"/content\"\n",
        "open_in_new_tab = False\n",
        "\n",
        "def start_file_explorer(root_dir=root_dir, port=8765):\n",
        "    try:\n",
        "        main([\"--root-dir=\" + root_dir, \"--port=\" + str(port)])\n",
        "    except Exception as e:\n",
        "        print(\"Error starting file explorer:\", str(e))\n",
        "\n",
        "\n",
        "def open_file_explorer(open_in_new_tab=False, root_dir=root_dir, port=8765):\n",
        "    thread = threading.Thread(target=start_file_explorer, args=[root_dir, port])\n",
        "    thread.start()\n",
        "\n",
        "    if open_in_new_tab:\n",
        "        output.serve_kernel_port_as_window(port)\n",
        "    else:\n",
        "        output.serve_kernel_port_as_iframe(port, height=\"500\")\n",
        "\n",
        "open_file_explorer(open_in_new_tab=open_in_new_tab, root_dir=root_dir, port=8765)"
      ],
      "metadata": {
        "cellView": "form",
        "id": "2rF_PVmaGUvx"
      },
      "execution_count": null,
      "outputs": []
    },
    {
      "cell_type": "markdown",
      "metadata": {
        "id": "Qhm7q1H1ohVs"
      },
      "source": [
        "---"
      ]
    },
    {
      "cell_type": "markdown",
      "metadata": {
        "id": "mvEK0S-nIlqv"
      },
      "source": [
        "# @**Credit**✒️\n",
        "##**<a href=\"https://github.com/Kimyobu\" title=\"Visit me on github\">Kimyobu</a> <a href=\"https://discord.gg/aith\" title=\"See us in community\">Discord Community**</a>\n",
        "<a href=\"https://github.com/Kimyobu\" title=\"Visit me on github\" style=\"margin-right: 100px;\"><img src=\"https://avatars.githubusercontent.com/u/91616822?v=4\" width=100px height=100px></a>  <a href=\"https://discord.gg/aith\" title=\"See us in community\"><img src=\"https://cdn.discordapp.com/icons/850018471096877096/a_79e2f1a6a99f763a924ef3e1d3ef7c6f.webp\" width=100px height=100px></a>"
      ]
    },
    {
      "cell_type": "markdown",
      "metadata": {
        "id": "QrGsIeGkImBu"
      },
      "source": [
        "---"
      ]
    }
  ],
  "metadata": {
    "accelerator": "GPU",
    "colab": {
      "gpuType": "T4",
      "private_outputs": true,
      "provenance": [],
      "include_colab_link": true
    },
    "kernelspec": {
      "display_name": "Python 3",
      "name": "python3"
    },
    "language_info": {
      "name": "python"
    }
  },
  "nbformat": 4,
  "nbformat_minor": 0
}