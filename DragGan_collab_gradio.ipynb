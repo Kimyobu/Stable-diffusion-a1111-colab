{
  "cells": [
    {
      "cell_type": "markdown",
      "metadata": {
        "colab_type": "text",
        "id": "view-in-github"
      },
      "source": [
        "<a href=\"https://colab.research.google.com/github/Kimyobu/Stable-diffusion-a1111-colab/blob/main/DragGan_collab_gradio.ipynb\" target=\"_parent\"><img src=\"https://colab.research.google.com/assets/colab-badge.svg\" alt=\"Open In Colab\"/></a>"
      ]
    },
    {
      "cell_type": "markdown",
      "metadata": {
        "id": "08uDiFLB6sIH"
      },
      "source": [
        "---"
      ]
    },
    {
      "cell_type": "markdown",
      "metadata": {
        "id": "RrrsS3RnIR-M"
      },
      "source": [
        "#DragGAN Colab Test"
      ]
    },
    {
      "cell_type": "code",
      "execution_count": null,
      "metadata": {
        "id": "r4yue2hvyant"
      },
      "outputs": [],
      "source": [
        "#@title SetUP Everythings...\n",
        "from google.colab import output\n",
        "!!apt install -y aria2\n",
        "!git clone https://github.com/XingangPan/DragGAN.git\n",
        "%cd /content/DragGAN\n",
        "!mkdir checkpoints\n",
        "f = json.loads(open('scripts/download_models.json').read())\n",
        "%cd checkpoints\n",
        "for x in f:\n",
        "    !aria2c --console-log-level=error -c -x 16 -s 16 -k 1M {x} -o {f[x]}\n",
        "!aria2c --console-log-level=error -c -x 16 -s 16 -k 1M 'https://drive.google.com/uc?export=download&id=1dlFEHbu-WzQWJl7nBBZYcTyo000H9hVm' -o 'stylegan_human_v2_512.pkl'\n",
        "%cd ..\n",
        "!pip install pillow==9.5.0\n",
        "!pip install -r requirements.txt\n",
        "output.clear()\n",
        "print('\\033[38;5;82m' + 'Setup DragGAN Complete')"
      ]
    },
    {
      "cell_type": "markdown",
      "metadata": {
        "id": "Iom3q50G7uK6"
      },
      "source": [
        "use any checkpoints\n",
        "```\n",
        "stylegan2_dogs_1024_pytorch,\n",
        "stylegan2_elephants_512_pytorch,\n",
        "stylegan2-cat-config-f,\n",
        "stylegan2-afhqcat-512x512,\n",
        "stylegan2_horses_256_pytorch,\n",
        "stylegan_human_v2_512\n",
        "```\n",
        "\n",
        "or download the weight of stylegan_human_v2_512 &\n",
        "and put them under ./checkpoints.\n",
        "\n",
        "link :https://drive.google.com/file/d/1dlFEHbu-WzQWJl7nBBZYcTyo000H9hVm/view"
      ]
    },
    {
      "cell_type": "code",
      "execution_count": null,
      "metadata": {
        "id": "jrMfz3l75ABJ"
      },
      "outputs": [],
      "source": [
        "#@title Launch WebUI\n",
        "%cd /content/DragGAN\n",
        "!python visualizer_drag_gradio.py"
      ]
    },
    {
      "cell_type": "markdown",
      "metadata": {
        "id": "kSYJW3F4IP_V"
      },
      "source": [
        "---"
      ]
    },
    {
      "cell_type": "markdown",
      "metadata": {
        "id": "LmfWY1WMIhEV"
      },
      "source": [
        "# @**Credit**\n",
        "##**<a href=\"https://github.com/Kimyobu\" title=\"Visit me on github\">Kimyobu</a> <a href=\"https://discord.gg/aith\" title=\"See us in community\">Discord Community**</a>\n",
        "<a href=\"https://github.com/Kimyobu\" title=\"Visit me on github\" style=\"margin-right: 100px;\"><img src=\"https://avatars.githubusercontent.com/u/91616822?v=4\" width=100px height=100px></a>  <a href=\"https://discord.gg/aith\" title=\"See us in community\"><img src=\"https://cdn.discordapp.com/icons/850018471096877096/a_79e2f1a6a99f763a924ef3e1d3ef7c6f.webp\" width=100px height=100px></a>"
      ]
    },
    {
      "cell_type": "markdown",
      "metadata": {
        "id": "SOeV2fC1IiWG"
      },
      "source": [
        "---"
      ]
    }
  ],
  "metadata": {
    "accelerator": "GPU",
    "colab": {
      "gpuType": "T4",
      "include_colab_link": true,
      "private_outputs": true,
      "provenance": []
    },
    "kernelspec": {
      "display_name": "Python 3",
      "name": "python3"
    },
    "language_info": {
      "codemirror_mode": {
        "name": "ipython",
        "version": 3
      },
      "file_extension": ".py",
      "mimetype": "text/x-python",
      "name": "python",
      "nbconvert_exporter": "python",
      "pygments_lexer": "ipython3",
      "version": "3.8.10"
    }
  },
  "nbformat": 4,
  "nbformat_minor": 0
}
