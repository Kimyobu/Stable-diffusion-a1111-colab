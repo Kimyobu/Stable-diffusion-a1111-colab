{
  "cells": [
    {
      "cell_type": "markdown",
      "metadata": {
        "id": "view-in-github",
        "colab_type": "text"
      },
      "source": [
        "<a href=\"https://colab.research.google.com/github/Kimyobu/Stable-diffusion-a1111-colab/blob/main/llama-2-7b-chat.ipynb\" target=\"_parent\"><img src=\"https://colab.research.google.com/assets/colab-badge.svg\" alt=\"Open In Colab\"/></a>"
      ]
    },
    {
      "cell_type": "code",
      "execution_count": 6,
      "metadata": {
        "id": "VCFOzsQSHbjM",
        "cellView": "form",
        "outputId": "e4b67634-2df9-4328-d540-0f0d15423440",
        "colab": {
          "base_uri": "https://localhost:8080/"
        }
      },
      "outputs": [
        {
          "output_type": "stream",
          "name": "stdout",
          "text": [
            "SetUP Envoriment Complete\n"
          ]
        }
      ],
      "source": [
        "#@title #Environment Setup ⬇️/🔃\n",
        "from google.colab import output,drive\n",
        "import os\n",
        "import subprocess\n",
        "USE_GOOGLE_DRIVE = False #@param {type: \"boolean\"}\n",
        "UPDATE_WEBUI = False #@param {type: \"boolean\"}\n",
        "%cd /content\n",
        "\n",
        "PROJECT = 'Llama2'\n",
        "WORKSPACE = '/content/Llama2'\n",
        "\n",
        "def fol(path):\n",
        "    return os.path.exists(path)\n",
        "\n",
        "if USE_GOOGLE_DRIVE:\n",
        "    if not fol('/content/drive'):\n",
        "        !echo \"Mounting Google Drive...\"\n",
        "        drive.mount('/content/drive/', force_remount=True)\n",
        "    WORKSPACE = '/content/drive/MyDrive/Llama2'\n",
        "    %cd /content/drive/MyDrive\n",
        "\n",
        "![ ! -d $WORKSPACE ] && echo -= Initial Setup WebUI =- && git clone -b v1.8 https://github.com/camenduru/text-generation-webui {PROJECT}\n",
        "\n",
        "%cd $WORKSPACE\n",
        "\n",
        "if UPDATE_WEBUI:\n",
        "    !git pull\n",
        "\n",
        "!echo -= Install Dependencies =-\n",
        "!pip install -r requirements.txt\n",
        "\n",
        "!apt-get -y install -qq aria2\n",
        "!mkdir -p models/Llama-2-7b-chat-hf\n",
        "%cd models/Llama-2-7b-chat-hf\n",
        "!aria2c --console-log-level=error -c -x 16 -s 16 -k 1M https://huggingface.co/4bit/Llama-2-7b-chat-hf/resolve/main/model-00001-of-00002.safetensors -o model-00001-of-00002.safetensors\n",
        "!aria2c --console-log-level=error -c -x 16 -s 16 -k 1M https://huggingface.co/4bit/Llama-2-7b-chat-hf/resolve/main/model-00002-of-00002.safetensors -o model-00002-of-00002.safetensors\n",
        "!aria2c --console-log-level=error -c -x 16 -s 16 -k 1M https://huggingface.co/4bit/Llama-2-7b-chat-hf/raw/main/model.safetensors.index.json -o model.safetensors.index.json\n",
        "!aria2c --console-log-level=error -c -x 16 -s 16 -k 1M https://huggingface.co/4bit/Llama-2-7b-chat-hf/raw/main/special_tokens_map.json -o special_tokens_map.json\n",
        "!aria2c --console-log-level=error -c -x 16 -s 16 -k 1M https://huggingface.co/4bit/Llama-2-7b-chat-hf/resolve/main/tokenizer.model -o tokenizer.model\n",
        "!aria2c --console-log-level=error -c -x 16 -s 16 -k 1M https://huggingface.co/4bit/Llama-2-7b-chat-hf/raw/main/tokenizer_config.json -o tokenizer_config.json\n",
        "!aria2c --console-log-level=error -c -x 16 -s 16 -k 1M https://huggingface.co/4bit/Llama-2-7b-chat-hf/raw/main/config.json -o config.json\n",
        "!aria2c --console-log-level=error -c -x 16 -s 16 -k 1M https://huggingface.co/4bit/Llama-2-7b-chat-hf/raw/main/generation_config.json -o generation_config.json\n",
        "%cd $WORKSPACE\n",
        "output.clear()\n",
        "!echo 'SetUP Envoriment Complete'"
      ]
    },
    {
      "cell_type": "code",
      "source": [
        "#@title #Launch WebUI 🚀\n",
        "#@markdown For dark theme add <a>?__theme=dark</a> to your gradio url\n",
        "ARGS = '--share --chat' #@param {type:\"string\"}\n",
        "%cd $WORKSPACE\n",
        "!python server.py {ARGS} --model {WORKSPACE}/models/Llama-2-7b-chat-hf"
      ],
      "metadata": {
        "cellView": "form",
        "id": "6tcB_CdFIe2w"
      },
      "execution_count": null,
      "outputs": []
    }
  ],
  "metadata": {
    "accelerator": "GPU",
    "colab": {
      "provenance": [],
      "include_colab_link": true
    },
    "gpuClass": "standard",
    "kernelspec": {
      "display_name": "Python 3",
      "name": "python3"
    },
    "language_info": {
      "name": "python"
    }
  },
  "nbformat": 4,
  "nbformat_minor": 0
}