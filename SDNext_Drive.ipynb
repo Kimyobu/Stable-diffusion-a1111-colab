{
  "cells": [
    {
      "cell_type": "markdown",
      "metadata": {
        "id": "view-in-github",
        "colab_type": "text"
      },
      "source": [
        "<a href=\"https://colab.research.google.com/github/Kimyobu/Stable-diffusion-a1111-colab/blob/main/SDNext_Drive.ipynb\" target=\"_parent\"><img src=\"https://colab.research.google.com/assets/colab-badge.svg\" alt=\"Open In Colab\"/></a>"
      ]
    },
    {
      "cell_type": "markdown",
      "metadata": {
        "id": "iPVQuc1oobpV"
      },
      "source": [
        "---\n",
        "#Release Colab Version"
      ]
    },
    {
      "cell_type": "code",
      "execution_count": null,
      "metadata": {
        "cellView": "form",
        "id": "uMLut-NnQKpt"
      },
      "outputs": [],
      "source": [
        "#@title ###**SetUP SDNext WebUI**⬇️\n",
        "#@markdown **SDNext Github Repo: https://github.com/vladmandic/automatic**\n",
        "%cd /content\n",
        "import signal\n",
        "def handler(signum, frame):\n",
        "    raise SystemExit('Aborting by user')\n",
        "import os\n",
        "from google.colab import output, drive\n",
        "import json\n",
        "\n",
        "def git_clone(repo, path):\n",
        "    if path:\n",
        "        %cd {path}\n",
        "    for x in repo:\n",
        "        !git clone {x}\n",
        "    %cd\n",
        "\n",
        "def join(d: str, l: list[str], *a:str):\n",
        "    for x in a:\n",
        "        l.append(x)\n",
        "    return d.join(l)\n",
        "\n",
        "def rd(l):\n",
        "    return [*set(l)]\n",
        "\n",
        "install_extension = True #@param {type: \"boolean\"}\n",
        "install_ControlNet_model = False #@param {type: \"boolean\"}\n",
        "p = '/content/drive'\n",
        "if not os.path.exists(p):\n",
        "    drive.mount(p, force_remount=True)\n",
        "\n",
        "if not os.environ.get('setup'):\n",
        "    !apt-get -y install -qq aria2\n",
        "\n",
        "!git clone https://github.com/vladmandic/automatic /content/drive/MyDrive/kimyobu-colab-sdnext\n",
        "if install_extension:\n",
        "    !aria2c --console-log-level=error -c -x 16 -s 16 -k 1M https://raw.githubusercontent.com/Kimyobu/Stable-diffusion-a1111-colab/main/SDNext/extensions.txt -d /content\n",
        "    install = open('/content/extensions.txt', 'r').read().split('\\n')\n",
        "    git_clone(install, '/content/drive/MyDrive/kimyobu-colab-sdnext/extensions')\n",
        "    u = \"https://huggingface.co/henryruhs/roop/resolve/main/inswapper_128.onnx\"\n",
        "    n = os.path.basename(u)\n",
        "    u = f\"\\\"{u}\\\"\"\n",
        "    !aria2c --console-log-level=error -c -x 16 -s 16 -k 1M {u} -o {n} -d /content/drive/MyDrive/kimyobu-colab-sdnext/models/roop\n",
        "if install_ControlNet_model:\n",
        "   e = 'sd-we'+'bui-controlnet'\n",
        "   a = '/content/drive/MyDrive/kimyobu-colab-sdnext/extensions-builtin/'\n",
        "   %cd {a}\n",
        "   if not os.listdir(e):\n",
        "      !rm -r {e}\n",
        "      r = 'https://github.com/Mikubill/sd-we'+'bui-controlnet.git'\n",
        "      !git clone {r}\n",
        "   %cd /content\n",
        "   print('\\033[38;5;190mWait for install ControlNet Models\\033[39m')\n",
        "   p = a + e +'/models'\n",
        "   !aria2c --console-log-level=error -c -x 16 -s 16 -k 1M https://raw.githubusercontent.com/Kimyobu/Stable-diffusion-a1111-colab/main/SD/control_net_model.json -d /content\n",
        "   o = json.load(open('/content/control_net_model.json', 'r'))\n",
        "   for x in o:\n",
        "        l = f\"\\\"{x}\\\"\"\n",
        "        !aria2c --console-log-level=error -c -x 16 -s 16 -k 1M {l} -o {o[x]} -d {p}\n",
        "\n",
        "%cd /content/drive/MyDrive/kimyobu-colab-sdnext\n",
        "if not os.environ.get('setup'):\n",
        "    os.environ['setup'] = 'True'\n",
        "\n",
        "output.clear()\n",
        "print('\\033[38;5;82m' + 'Setup WebUI Complete')"
      ]
    },
    {
      "cell_type": "markdown",
      "metadata": {
        "id": "Ei8RhN8Bi3sH"
      },
      "source": [
        "#**Model Installer**⬇️"
      ]
    },
    {
      "cell_type": "code",
      "execution_count": null,
      "metadata": {
        "cellView": "form",
        "id": "x9wBG3jBkp0X"
      },
      "outputs": [],
      "source": [
        "from google.colab import output,drive\n",
        "p = '/content/drive'\n",
        "if not os.path.exists(p):\n",
        "    drive.mount(p, force_remount=True)\n",
        "!apt-get -y install -qq aria2\n",
        "output.clear()\n",
        "signal.signal(signal.SIGINT, handler)\n",
        "save_path = '/content/drive/MyDrive/kimyobu-colab-sdnext/models/'\n",
        "model_type = 'Stable-diffusion' #@param [\"adetailer\",\"deepdanbooru\",\"karlo\",\"sam\",\"VAE-approx\",\"Codeformer\",\"ESRGAN\",\"LDSR\",\"Stable-diffusion\",\"ControlNet\",\"GFPGAN\",\"Lora\",\"SwinIR\",\"deepbooru\",\"hypernetworks\",\"LyCORIS\",\"VAE\"]\n",
        "model_path = save_path + model_type\n",
        "model_url = 'https://civitai.com/api/download/models/113576' #@param {type:\"string\"}\n",
        "#@markdown > Uninstall not support you can manually delete model file in models folder at /content/drive/MyDrive/kimyobu-colab-sdnext/models<br>ไม่รองรับการลบโมเดลสามารถลบเองได้ที่ folder /content/drive/MyDrive/kimyobu-colab-sdnext/models\n",
        "model_url = f\"\\\"{model_url}\\\"\"\n",
        "!mkdir -p {model_path}\n",
        "\n",
        "!aria2c --console-log-level=error -c -x 16 -s 16 -k 1M {model_url} -d {model_path}"
      ]
    },
    {
      "cell_type": "markdown",
      "source": [],
      "metadata": {
        "id": "mqgBazoyGuFF"
      }
    },
    {
      "cell_type": "markdown",
      "metadata": {
        "id": "-QjRkZ0NjExY"
      },
      "source": [
        "#**WebUI**🕸️\n",
        "* [**SDNext Wiki**](https://github.com/vladmandic/automatic/wiki)\n",
        "    - [Readme](https://github.com/vladmandic/automatic#readme)\n",
        "    - [Original](https://github.com/AUTOMATIC1111/stable-diffusion-webui/wiki)"
      ]
    },
    {
      "cell_type": "code",
      "execution_count": null,
      "metadata": {
        "cellView": "form",
        "id": "0ODMPioZQ2E2"
      },
      "outputs": [],
      "source": [
        "#@title Launch WebUI🚀\n",
        "#@markdown #Launch WebUI🚀\n",
        "args = '--share --insecure' #@param {type: \"string\"}\n",
        "\n",
        "import os\n",
        "from google.colab import output,drive\n",
        "p = '/content/drive'\n",
        "if not os.path.exists(p):\n",
        "    drive.mount(p, force_remount=True)\n",
        "%cd /content/drive/MyDrive/kimyobu-colab-sdnext\n",
        "if not os.environ.get('setup'):\n",
        "    !apt-get -y install -qq aria2\n",
        "    os.environ['setup'] = 'True'\n",
        "!aria2c --console-log-level=error -c -x 16 -s 16 -k 1M https://raw.githubusercontent.com/Kimyobu/Stable-diffusion-a1111-colab/main/SDNext/config_drive.json -o config.json\n",
        "!aria2c --console-log-level=error -c -x 16 -s 16 -k 1M https://raw.githubusercontent.com/Kimyobu/Stable-diffusion-a1111-colab/main/SDNext/ui-config.json\n",
        "!aria2c --console-log-level=error -c -x 16 -s 16 -k 1M https://raw.githubusercontent.com/Kimyobu/Stable-diffusion-a1111-colab/main/styles.csv\n",
        "output.clear()\n",
        "#Launch WebUI Gradio\n",
        "args = f\"\\\"{args}\\\"\"\n",
        "!COMMANDLINE_ARGS={args} python launch.py"
      ]
    },
    {
      "cell_type": "code",
      "execution_count": null,
      "metadata": {
        "cellView": "form",
        "id": "f-jSYokNxLiW"
      },
      "outputs": [],
      "source": [
        "#@title CodeFormer Fix🔃\n",
        "#@markdown Run this cell for fix CodeFormer error checkout<br>\n",
        "#@markdown Run cell นี้ถ้ามี error ที่ CodeFormer มัน checkout error\n",
        "import os\n",
        "from google.colab import output,drive\n",
        "p = '/content/drive'\n",
        "if not os.path.exists(p):\n",
        "    drive.mount(p, force_remount=True)\n",
        "%cd /content/drive/MyDrive/kimyobu-colab-sdnext/repositories/CodeFormer\n",
        "!git checkout -f c5b4593074ba6214284d6acd5f1719b6c5d739af"
      ]
    },
    {
      "cell_type": "code",
      "execution_count": null,
      "metadata": {
        "cellView": "form",
        "id": "W6Pdbm4aGNTY"
      },
      "outputs": [],
      "source": [
        "#@title Downloader⬇️\n",
        "#@markdown * Install to Runtime storageอันนี้มันจะลงที่ Runtime\n",
        "import os\n",
        "import signal\n",
        "from google.colab import drive\n",
        "p = '/content/drive'\n",
        "if not os.path.exists(p):\n",
        "    drive.mount(p, force_remount=True)\n",
        "\n",
        "signal.signal(signal.SIGINT, handler)\n",
        "\n",
        "save_path = '/content/drive/MyDrive/kimyobu-colab-sdnext/'\n",
        "folder = 'embeddings' #@param {type:\"string\"}\n",
        "path = save_path + folder\n",
        "url = 'https://civitai.com/api/download/models/9208' #@param {type:\"string\"}\n",
        "url = f\"\\\"{url}\\\"\"\n",
        "!mkdir -p {path}\n",
        "\n",
        "!aria2c --console-log-level=error -c -x 16 -s 16 -k 1M {url} -d {path}"
      ]
    },
    {
      "cell_type": "code",
      "execution_count": null,
      "metadata": {
        "cellView": "form",
        "id": "2rF_PVmaGUvx"
      },
      "outputs": [],
      "source": [
        "#@title ##File Explorer📁\n",
        "import signal\n",
        "def handler(signum, frame):\n",
        "    raise SystemExit('Aborting by user')\n",
        "signal.signal(signal.SIGINT, handler)\n",
        "!pip install -U imjoy-elfinder\n",
        "import threading\n",
        "from google.colab import output\n",
        "from imjoy_elfinder.app import main\n",
        "output.clear()\n",
        "\n",
        "root_dir = \"/content\"\n",
        "open_in_new_tab = False\n",
        "\n",
        "def start_file_explorer(root_dir=root_dir, port=8765):\n",
        "    try:\n",
        "        main([\"--root-dir=\" + root_dir, \"--port=\" + str(port)])\n",
        "    except Exception as e:\n",
        "        print(\"Error starting file explorer:\", str(e))\n",
        "\n",
        "\n",
        "def open_file_explorer(open_in_new_tab=False, root_dir=root_dir, port=8765):\n",
        "    thread = threading.Thread(target=start_file_explorer, args=[root_dir, port])\n",
        "    thread.start()\n",
        "\n",
        "    if open_in_new_tab:\n",
        "        output.serve_kernel_port_as_window(port)\n",
        "    else:\n",
        "        output.serve_kernel_port_as_iframe(port, height=\"500\")\n",
        "\n",
        "open_file_explorer(open_in_new_tab=open_in_new_tab, root_dir=root_dir, port=8765)"
      ]
    },
    {
      "cell_type": "code",
      "source": [
        "from google.colab import drive\n",
        "drive.mount('/content/drive')"
      ],
      "metadata": {
        "id": "Z9F0XqMOUe-G"
      },
      "execution_count": null,
      "outputs": []
    },
    {
      "cell_type": "markdown",
      "metadata": {
        "id": "Qhm7q1H1ohVs"
      },
      "source": [
        "---"
      ]
    },
    {
      "cell_type": "markdown",
      "metadata": {
        "id": "mvEK0S-nIlqv"
      },
      "source": [
        "# @**Credit**✒️\n",
        "##**<a href=\"https://github.com/Kimyobu\" title=\"Visit me on github\">Kimyobu</a> <a href=\"https://discord.gg/aith\" title=\"See us in community\">Discord Community**</a>\n",
        "<a href=\"https://github.com/Kimyobu\" title=\"Visit me on github\" style=\"margin-right: 100px;\"><img src=\"https://avatars.githubusercontent.com/u/91616822?v=4\" width=100px height=100px></a>  <a href=\"https://discord.gg/aith\" title=\"See us in community\"><img src=\"https://cdn.discordapp.com/icons/850018471096877096/a_79e2f1a6a99f763a924ef3e1d3ef7c6f.webp\" width=100px height=100px></a>"
      ]
    },
    {
      "cell_type": "markdown",
      "metadata": {
        "id": "QrGsIeGkImBu"
      },
      "source": [
        "---"
      ]
    }
  ],
  "metadata": {
    "accelerator": "GPU",
    "colab": {
      "gpuType": "T4",
      "private_outputs": true,
      "provenance": [],
      "include_colab_link": true
    },
    "kernelspec": {
      "display_name": "Python 3",
      "name": "python3"
    },
    "language_info": {
      "name": "python"
    }
  },
  "nbformat": 4,
  "nbformat_minor": 0
}