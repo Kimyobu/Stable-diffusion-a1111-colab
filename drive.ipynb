{
  "cells": [
    {
      "cell_type": "markdown",
      "metadata": {
        "colab_type": "text",
        "id": "view-in-github"
      },
      "source": [
        "<a href=\"https://colab.research.google.com/github/Kimyobu/Stable-diffusion-a1111-colab/blob/main/drive.ipynb\" target=\"_parent\"><img src=\"https://colab.research.google.com/assets/colab-badge.svg\" alt=\"Open In Colab\"/></a>"
      ]
    },
    {
      "cell_type": "markdown",
      "metadata": {},
      "source": [
        "#**This is no longer to update. we will back**"
      ]
    },
    {
      "cell_type": "markdown",
      "metadata": {
        "id": "qGD1Fb8oiq2U"
      },
      "source": [
        "---\n",
        "#**Install Stage**<br>\n",
        "##**!!Important!!** Run this cell first before use everytime\n",
        "##**คำเตือน** ให้รัน Cell นี้ก่อนทุกครั้งที่ใช้นะครับ\n",
        "---"
      ]
    },
    {
      "cell_type": "code",
      "execution_count": null,
      "metadata": {
        "cellView": "form",
        "id": "ksmjQHFSh5CL"
      },
      "outputs": [],
      "source": [
        "#Cell 1\n",
        "#@markdown #**Install/Update WebUI**<br>\n",
        "#markdown > Clone Stable diffusion webui git repo<br>* caution if instant_replace = True will destroy and replace webUI folder<br>* คำเตือนเปิด instant_replace จะลบ folder webUI แล้วลงใหม่ข้อมูลหายหมด\n",
        "instant_replace = False #@param {type: \"boolean\"}\n",
        "#@markdown\n",
        "install_extension = True #@param {type: \"boolean\"}\n",
        "import time\n",
        "import sys\n",
        "import os\n",
        "from google.colab import drive, output\n",
        "!!apt-get -y install -qq aria2\n",
        "\n",
        "env_name = 'project_path'\n",
        "os.environ[env_name] = '/content/drive/MyDrive/kim-colab-project'\n",
        "def mount():\n",
        "    c = True\n",
        "    p = '/content/drive'\n",
        "    if os.path.exists(p):\n",
        "        c = False\n",
        "    if c :\n",
        "        drive.mount(p, force_remount=True)\n",
        "\n",
        "def pp(path = ''):\n",
        "    mount()\n",
        "    env_name = 'project_path'\n",
        "    return os.environ[env_name] + path\n",
        "\n",
        "def join(d:str, l: list[str], *a:str):\n",
        "    for x in a:\n",
        "        l.append(x)\n",
        "    return d.join(l)\n",
        "\n",
        "def rd(l:list):\n",
        "    return [*set(l)]\n",
        "\n",
        "def wait(t:float):\n",
        "    time.sleep(t)\n",
        "\n",
        "\n",
        "def git_clone(repo:list[str], path:str | None = None):\n",
        "    if path:\n",
        "        %cd {path}\n",
        "    for x in repo:\n",
        "        !git clone {x}\n",
        "    %cd\n",
        "\n",
        "def clear():\n",
        "    output.clear()\n",
        "\n",
        "def rm(path:str, arg = ''):\n",
        "    if arg == '-r':\n",
        "        os.removedirs(path)\n",
        "    else:\n",
        "        os.remove(path)\n",
        "\n",
        "def dl(link:str, dir: str | None = None):\n",
        "    link = f\"\\\"{link}\\\"\"\n",
        "    if dir:\n",
        "        !aria2c --console-log-level=error -c -x 16 -s 16 -k 1M {link} -d {dir}\n",
        "    else:\n",
        "        !aria2c --console-log-level=error -c -x 16 -s 16 -k 1M {link}\n",
        "\n",
        "j = 'https://github.com/AUTOMATIC1111/stable-diffusion' + '-webui.git'\n",
        "if instant_replace and os.path.exists(pp()):\n",
        "  !rm -r {pp()}\n",
        "\n",
        "p = pp()\n",
        "!git clone {j} project\n",
        "if install_extension:\n",
        "   !apt-get -y install -qq aria2\n",
        "   dl('https://github.com/Kimyobu/Stable-diffusion-a1111-colab/raw/main/extensions.txt')\n",
        "   #@markdown > Leave it default to install common extensions<br>ไม่ต้องเปลี่ยนถ้าจะลง extension ทั่วไป\n",
        "   extension_list_file = '/content/extensions.txt' #@param {type: \"string\"}\n",
        "   install = open(extension_list_file, 'r').read().split('\\n')\n",
        "   git_clone(install,'project/extensions')\n",
        "\n",
        "!cp -r /content/project {p}\n",
        "!rm -r /content/project\n",
        "clear()\n",
        "print('\\033[38;5;82m' + 'Setup WebUI Complete')"
      ]
    },
    {
      "cell_type": "code",
      "execution_count": null,
      "metadata": {
        "cellView": "form",
        "id": "XUA2l8mPidN_"
      },
      "outputs": [],
      "source": [
        "#@markdown #Check list of default common extension<br>ดู extension ทั่วไปที่จัดไว้ให้\n",
        "!!apt-get -y install -qq aria2\n",
        "!!aria2c --console-log-level=error -c -x 16 -s 16 -k 1M https://github.com/Kimyobu/Stable-diffusion-webui-colab/raw/main/extensions.txt\n",
        "print('\\033[38;5;190mCurrent List:\\n' + open('/content/extensions.txt').read())"
      ]
    },
    {
      "cell_type": "markdown",
      "metadata": {
        "id": "EyZsV7Joizq_"
      },
      "source": [
        "---"
      ]
    },
    {
      "cell_type": "markdown",
      "metadata": {
        "id": "g_cmxEev13Ln"
      },
      "source": [
        "#Model Downloader"
      ]
    },
    {
      "cell_type": "code",
      "execution_count": null,
      "metadata": {
        "cellView": "form",
        "id": "9pEHLEZG18_5"
      },
      "outputs": [],
      "source": [
        "#Cell 2\n",
        "#@markdown #Model Installer\n",
        "#@markdown >YumYumFusionMix CheckPoint https://civitai.com/models/99134/yumyumfusionmix<br>https://civitai.com/api/download/models/113576\n",
        "import os\n",
        "\n",
        "!apt-get -y install -qq aria2\n",
        "model_type = 'Stable-diffusion' #@param [\"adetailer\",\"deepdanbooru\",\"karlo\",\"sam\",\"VAE-approx\",\"Codeformer\",\"ESRGAN\",\"LDSR\",\"Stable-diffusion\",\"ControlNet\",\"GFPGAN\",\"Lora\",\"SwinIR\",\"deepbooru\",\"hypernetworks\",\"LyCORIS\",\"VAE\"]\n",
        "model_path = ''\n",
        "if model_type == 'ControlNet':\n",
        "    model_path = pp('/extensions/sd-we'+ 'bui-controlnet/models')\n",
        "else :\n",
        "    model_path = pp('/models/') + model_type\n",
        "model_url = 'https://civitai.com/api/download/models/113576' #@param {type:\"string\"}\n",
        "!mkdir -p {model_path}\n",
        "dl(model_url, model_path)"
      ]
    },
    {
      "cell_type": "markdown",
      "metadata": {
        "id": "V7HGoQz2OLsw"
      },
      "source": [
        "---"
      ]
    },
    {
      "cell_type": "code",
      "execution_count": null,
      "metadata": {
        "id": "eW1Odi71OKhe"
      },
      "outputs": [],
      "source": [
        "#@title Launch WebUI\n",
        "import os\n",
        "p = pp()\n",
        "%cd {p}\n",
        "r = 'repositories'\n",
        "!mkdir {r}\n",
        "%cd {r}\n",
        "import os\n",
        "!git clone https://github.com/sczhou/CodeFormer\n",
        "%cd CodeFormer\n",
        "!git remote add https://github.com/sczhou/CodeFormer\n",
        "!git fetch origin c5b4593074ba6214284d6acd5f1719b6c5d739af\n",
        "!git reset --hard FETCH_HEAD\n",
        "%cd ../..\n",
        "!pip install --upgrade fastapi\n",
        "#!git stash\n",
        "#!git pull origin master\n",
        "#!git checkout b6af0a3809ea869fb180633f9affcae4b199ffcf\n",
        "!apt install libcairo2-dev pkg-config python3-dev\n",
        "!pip install svglib\n",
        "!pip install pytorch-lightning==1.6.5\n",
        "!pip install torchmetrics==0.11.0\n",
        "dl('https://raw.githubusercontent.com/Kimyobu/Stable-diffusion-a1111-colab/main/styles.csv')\n",
        "output.clear()\n",
        "\n",
        "# Web UI tunnel\n",
        "!COMMANDLINE_ARGS=\"--share --no-half-vae --xformers --enable-insecure-extension- --theme dark --gradio-queue\" REQS_FILE=\"requirements.txt\" python launch.py"
      ]
    },
    {
      "cell_type": "markdown",
      "metadata": {},
      "source": [
        "---"
      ]
    },
    {
      "cell_type": "markdown",
      "metadata": {},
      "source": [
        "# @**Credit**\n",
        "##**<a href=\"https://github.com/Kimyobu\" title=\"Visit me on github\">Kimyobu</a> <a href=\"https://discord.gg/aith\" title=\"See us in community\">Discord Community**</a>\n",
        "<a href=\"https://github.com/Kimyobu\" title=\"Visit me on github\" style=\"margin-right: 100px;\"><img src=\"https://avatars.githubusercontent.com/u/91616822?v=4\" width=100px height=100px></a>  <a href=\"https://discord.gg/aith\" title=\"See us in community\"><img src=\"https://cdn.discordapp.com/icons/850018471096877096/a_79e2f1a6a99f763a924ef3e1d3ef7c6f.webp\" width=100px height=100px></a>"
      ]
    },
    {
      "cell_type": "markdown",
      "metadata": {},
      "source": [
        "---"
      ]
    }
  ],
  "metadata": {
    "accelerator": "GPU",
    "colab": {
      "authorship_tag": "ABX9TyMRQ3h6pvrTyF8YdtOfY2d5",
      "gpuType": "T4",
      "include_colab_link": true,
      "private_outputs": true,
      "provenance": []
    },
    "kernelspec": {
      "display_name": "Python 3",
      "name": "python3"
    },
    "language_info": {
      "name": "python"
    }
  },
  "nbformat": 4,
  "nbformat_minor": 0
}
