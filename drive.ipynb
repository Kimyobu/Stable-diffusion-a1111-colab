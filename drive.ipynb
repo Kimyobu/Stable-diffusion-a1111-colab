{
  "cells": [
    {
      "cell_type": "markdown",
      "metadata": {
        "id": "989UvY5SO046"
      },
      "source": [
        "---"
      ]
    },
    {
      "cell_type": "code",
      "execution_count": null,
      "metadata": {
        "cellView": "form",
        "id": "uaZ6k2ty1xfc"
      },
      "outputs": [],
      "source": [
        "#@title #**Stable Diffsuion Install/Update⬇️🔃**\n",
        "branch_name = 'master' #@param {type: \"string\"}\n",
        "#@markdown\n",
        "install_extension = True #@param {type: \"boolean\"}\n",
        "install_controlNet_model = False #@param {type: \"boolean\"}\n",
        "%cd /content\n",
        "from google.colab import drive, output\n",
        "import time\n",
        "import os\n",
        "import json\n",
        "\n",
        "def git_clone(repo, path):\n",
        "    if path:\n",
        "        %cd {path}\n",
        "    for x in repo:\n",
        "        !git clone {x}\n",
        "    %cd /content\n",
        "\n",
        "if os.getenv('drive') != 'True' or not os.path.exists('/content/drive'):\n",
        "    print('We need granted access google drive. Please allow access us will may not made a bomb')\n",
        "    drive.mount('/content/drive', force_remount=True)\n",
        "    os.environ['drive'] = 'True'\n",
        "\n",
        "if os.getenv('ready') != 'True':\n",
        "    !apt-get -y install -qq aria2\n",
        "    !pip install --upgrade fastapi\n",
        "    !apt install libcairo2-dev pkg-config python3-dev\n",
        "    !pip install svglib\n",
        "    !pip install pytorch-lightning==1.6.5\n",
        "    !pip install torchmetrics==0.11.0\n",
        "    os.environ['ready'] = 'True'\n",
        "    output.clear()\n",
        "\n",
        "p = '/content/drive/MyDrive/kimyobu-sd-a1111'\n",
        "repo = 'https://github.com/AUTOMATIC1111/stable-diffusion-we'+'bui.git'\n",
        "if os.path.exists(p):\n",
        "    %cd {p}\n",
        "    !git checkout -f {branch_name}\n",
        "    !git pull origin\n",
        "    %cd /content\n",
        "else:\n",
        "    !git clone -b {branch_name} {repo} {p}\n",
        "\n",
        "if install_extension:\n",
        "   !aria2c --console-log-level=error -c -x 16 -s 16 -k 1M https://github.com/Kimyobu/Stable-diffusion-a1111-colab/raw/main/SD/extensions.txt\n",
        "   install = open('/content/extensions.txt', 'r').read().split('\\n')\n",
        "   git_clone(install, '/content/drive/MyDrive/kimyobu-sd-a1111/extensions')\n",
        "if install_controlNet_model:\n",
        "   print('\\033[38;5;190mWait for install ControlNet Models\\033[39m')\n",
        "   p = '/content/drive/MyDrive/kimyobu-sd-a1111/extensions/sd-we' + 'bui-controlnet/models'\n",
        "   !aria2c --console-log-level=error -c -x 16 -s 16 -k 1M https://raw.githubusercontent.com/Kimyobu/Stable-diffusion-a1111-colab/main/SD/control_net_model.json -d /content\n",
        "   o = json.load(open('/content/control_net_model.json', 'r'))\n",
        "   for x in o:\n",
        "        l = f\"\\\"{x}\\\"\"\n",
        "        !aria2c --console-log-level=error -c -x 16 -s 16 -k 1M {l} -o {o[x]} -d {p}\n",
        "\n",
        "time.sleep(2)\n",
        "output.clear()\n",
        "print('\\033[38;5;82m' + 'Setup WebUI Complete')"
      ]
    },
    {
      "cell_type": "markdown",
      "metadata": {
        "id": "fA330TB2N8w-"
      },
      "source": [
        "#**Model downloader⬇️**<br>\n",
        "## Put your model link file and select model type<br>\n",
        "## ใส่ลิงค์ไฟล์โมเดลแล้วเลือกประเภทโมเดล<br>\n",
        "> YumYumFusionMix CheckPoint <br>\n",
        "https://civitai.com/models/99134/yumyumfusionmix<br>\n",
        "https://civitai.com/api/download/models/113576<br>\n",
        "YumYum2D<br>\n",
        "https://civitai.com/models/106870/yumyum2d<br>\n",
        "https://civitai.com/api/download/models/115417<br>\n",
        "* @Credit <a href=\"https://civitai.com/user/AIJPG\" title=\"Follower for support\">AIJPG</a><br>\n",
        "<a href=\"https://civitai.com/user/AIJPG\"><img src=\"https://image.civitai.com/xG1nkqKTMzGDvpLrqFT7WA/20147aba-d01c-44b2-b8e0-c2040e46d436/width=128/AIJPG.jpeg\" width=\"100\" height=\"100\" title=\"AIJPG\"></a>"
      ]
    },
    {
      "cell_type": "code",
      "execution_count": null,
      "metadata": {
        "cellView": "form",
        "id": "-gnZRON0KV_N"
      },
      "outputs": [],
      "source": [
        "#@title Model Installer⬇️\n",
        "#@markdown * Install Model<br>ลงโมเดลสำหรับเจนรูป\n",
        "from google.colab import drive,output\n",
        "import os\n",
        "if os.getenv('drive') != 'True' or not os.path.exists('/content/drive'):\n",
        "    print('We need granted access google drive. Please allow access us will may not made a bomb')\n",
        "    drive.mount('/content/drive', force_remount=True)\n",
        "    os.environ['drive'] = 'True'\n",
        "\n",
        "if os.getenv('ready') != 'True':\n",
        "    !apt-get -y install -qq aria2\n",
        "    !pip install --upgrade fastapi\n",
        "    !apt install libcairo2-dev pkg-config python3-dev\n",
        "    !pip install svglib\n",
        "    !pip install pytorch-lightning==1.6.5\n",
        "    !pip install torchmetrics==0.11.0\n",
        "    os.environ['ready'] = 'True'\n",
        "    output.clear()\n",
        "\n",
        "save_path = '/content/drive/MyDrive/kimyobu-sd-a1111/'\n",
        "model_type = 'Stable-diffusion' #@param [\"adetailer\",\"deepdanbooru\",\"karlo\",\"sam\",\"VAE-approx\",\"Codeformer\",\"ESRGAN\",\"LDSR\",\"Stable-diffusion\",\"ControlNet\",\"GFPGAN\",\"Lora\",\"SwinIR\",\"deepbooru\",\"hypernetworks\",\"LyCORIS\",\"VAE\"]\n",
        "\n",
        "model_path = ''\n",
        "if model_type == 'ControlNet':\n",
        "    model_path = save_path + 'extensions/sd-we'+'bui-controlnet/models'\n",
        "else:\n",
        "    model_path = save_path + 'models/' + model_type\n",
        "model_url = 'https://civitai.com/api/download/models/113576' #@param {type:\"string\"}\n",
        "#@markdown > Uninstall not support you can manually delete model file in models folder at<br>\n",
        "#@markdown /content/drive/MyDrive/kimyobu-sd-a1111/models<br>\n",
        "#@markdown ไม่รองรับการลบโมเดลสามารถลบเองได้ที่ folder<br>\n",
        "#@markdown /content/drive/MyDrive/kimyobu-sd-a1111/models\n",
        "!mkdir -p {model_path}\n",
        "\n",
        "print(f'\\033[38;5;190mInstalling Model from url: {model_url} \\033[38;5;82m[{model_type}]\\033[39m' )\n",
        "model_url = f\"\\\"{model_url}\\\"\"\n",
        "!aria2c --console-log-level=error -c -x 16 -s 16 -k 1M {model_url} -d {model_path}"
      ]
    },
    {
      "cell_type": "markdown",
      "metadata": {
        "id": "WEFmky-9OI3u"
      },
      "source": [
        "#**Launch WebUI🚀**"
      ]
    },
    {
      "cell_type": "code",
      "execution_count": null,
      "metadata": {
        "cellView": "form",
        "id": "DjfJUzGB3pDs"
      },
      "outputs": [],
      "source": [
        "#@title Launch WebUI🚀\n",
        "#@markdown\n",
        "if os.getenv('drive') != 'True' or not os.path.exists('/content/drive'):\n",
        "    print('We need granted access google drive. Please allow access us will may not made a bomb')\n",
        "    drive.mount('/content/drive', force_remount=True)\n",
        "    os.environ['drive'] = 'True'\n",
        "\n",
        "if os.getenv('ready') != 'True':\n",
        "    !apt-get -y install -qq aria2\n",
        "    !pip install --upgrade fastapi\n",
        "    !apt install libcairo2-dev pkg-config python3-dev\n",
        "    !pip install svglib\n",
        "    !pip install pytorch-lightning==1.6.5\n",
        "    !pip install torchmetrics==0.11.0\n",
        "    os.environ['ready'] = 'True'\n",
        "\n",
        "p = '/content/drive/MyDrive/kimyobu-sd-a1111'\n",
        "%cd {p}\n",
        "!aria2c --console-log-level=error -c -x 16 -s 16 -k 1M https://raw.githubusercontent.com/Kimyobu/Stable-diffusion-a1111-colab/main/styles.csv\n",
        "output.clear()\n",
        "args = \"--share --no-half-vae --xformers --opt-sdp-attention --enable-insecure-extension- --theme dark\" #@param {type: \"string\"}\n",
        "args =  f\"\\\"{args}\\\"\"\n",
        "!COMMANDLINE_ARGS={args} REQS_FILE=\"requirements.txt\" python launch.py"
      ]
    },
    {
      "cell_type": "code",
      "execution_count": null,
      "metadata": {
        "cellView": "form",
        "id": "EQwp8ZA4-B9A"
      },
      "outputs": [],
      "source": [
        "#@title CodeFormer Fix🔃\n",
        "#@markdown Run this cell for fix CodeFormer error checkout<br>\n",
        "#@markdown Run cell นี้ถ้ามี error ที่ CodeFormer มัน checkout error\n",
        "%cd /content/drive/MyDrive/kimyobu-sd-a1111/repositories/CodeFormer\n",
        "!git checkout -f c5b4593074ba6214284d6acd5f1719b6c5d739af"
      ]
    },
    {
      "cell_type": "markdown",
      "metadata": {
        "id": "0GfFmntzOcuX"
      },
      "source": [
        "---"
      ]
    },
    {
      "cell_type": "markdown",
      "metadata": {
        "id": "6Hma-GIEOrj3"
      },
      "source": [
        "# @**Credit✒️**\n",
        "##**<a href=\"https://github.com/Kimyobu\" title=\"Visit me on github\">Kimyobu</a> <a href=\"https://discord.gg/aith\" title=\"See us in community\">Discord Community**</a>\n",
        "<a href=\"https://github.com/Kimyobu\" title=\"Visit me on github\" style=\"margin-right: 100px;\"><img src=\"https://avatars.githubusercontent.com/u/91616822?v=4\" width=100px height=100px></a>  <a href=\"https://discord.gg/aith\" title=\"See us in community\"><img src=\"https://cdn.discordapp.com/icons/850018471096877096/a_79e2f1a6a99f763a924ef3e1d3ef7c6f.webp\" width=100px height=100px></a>"
      ]
    },
    {
      "cell_type": "markdown",
      "metadata": {
        "id": "019PR7aFOwuI"
      },
      "source": [
        "---"
      ]
    },
    {
      "cell_type": "markdown",
      "metadata": {
        "id": "2wQIwMu1UJAe"
      },
      "source": [
        "#@Feedback & Bug Report📪\n",
        "> Contact  -> <a href=\"https://discord.gg/aith\" title=\"See us in community\">Discord</a> at <a>#stable-diffusion</a> (Ping as <a>@kimyobu</a>)"
      ]
    }
  ],
  "metadata": {
    "accelerator": "GPU",
    "colab": {
      "gpuType": "T4",
      "private_outputs": true,
      "provenance": []
    },
    "kernelspec": {
      "display_name": "Python 3",
      "name": "python3"
    },
    "language_info": {
      "name": "python"
    }
  },
  "nbformat": 4,
  "nbformat_minor": 0
}
